{
 "cells": [
  {
   "cell_type": "code",
   "execution_count": null,
   "metadata": {},
   "outputs": [],
   "source": [
    "# Dependent and Shared Data Representations improve Uplift Prediction in Imbalanced Treatment Conditions"
   ]
  },
  {
   "cell_type": "code",
   "execution_count": 1,
   "metadata": {},
   "outputs": [],
   "source": [
    "import pandas as pd\n",
    "import numpy as np\n",
    "from sklearn.model_selection import train_test_split\n",
    "from sklearn.base import clone\n",
    "import xgboost"
   ]
  },
  {
   "cell_type": "code",
   "execution_count": 2,
   "metadata": {},
   "outputs": [],
   "source": [
    "clients_df = pd.read_csv(\"../../data/raw/clients.csv\", parse_dates=['first_issue_date', 'first_redeem_date'])\n",
    "# products_df = pd.read_csv(\"../../data/raw/products.csv\")\n",
    "# purchases_df = pd.read_csv(\"../../data/raw/purchases.csv\", parse_dates=['transaction_datetime'])"
   ]
  },
  {
   "cell_type": "code",
   "execution_count": 3,
   "metadata": {},
   "outputs": [],
   "source": [
    "clients_df['issue_dayofyear'] = clients_df['first_issue_date'].dt.dayofyear\n",
    "clients_df['issue_hour'] = clients_df['first_issue_date'].dt.hour\n",
    "clients_df['issue_weekday'] = clients_df['first_issue_date'].dt.weekday\n",
    "clients_df['issue_dayofmonth'] = clients_df['first_issue_date'].dt.day\n",
    "clients_df['issue_year'] = clients_df['first_issue_date'].dt.year\n",
    "clients_df['issue_month'] = clients_df['first_issue_date'].dt.month\n",
    "clients_df['issue_weekofyear'] = clients_df['first_issue_date'].dt.weekofyear\n",
    "clients_df['issue_week'] = clients_df['first_issue_date'].dt.week\n",
    "clients_df['issue_quarter'] = clients_df['first_issue_date'].dt.quarter"
   ]
  },
  {
   "cell_type": "code",
   "execution_count": 4,
   "metadata": {},
   "outputs": [],
   "source": [
    "clients_df['redeem_issue_diff'] = (clients_df['first_redeem_date'] - clients_df['first_issue_date']).dt.total_seconds()\n",
    "cat_col = \"gender\"\n",
    "encoding = clients_df.groupby(f\"{cat_col}\").size()\n",
    "encoding = encoding / clients_df.shape[0]\n",
    "clients_df[f\"{cat_col}_freq_enc\"] = clients_df[f\"{cat_col}\"].map(encoding)"
   ]
  },
  {
   "cell_type": "code",
   "execution_count": 5,
   "metadata": {},
   "outputs": [],
   "source": [
    "clients_df['strange_age'] = (clients_df['age'] < clients_df['age'].quantile(.01)) | (clients_df['age'] > clients_df['age'].quantile(.99))\n",
    "clients_df['strange_age'] = clients_df['strange_age'].astype(int)"
   ]
  },
  {
   "cell_type": "code",
   "execution_count": 6,
   "metadata": {},
   "outputs": [],
   "source": [
    "for value in clients_df['gender'].unique():\n",
    "    clients_df[f'gender_{value}'] = (clients_df['gender'] == value).astype(int)"
   ]
  },
  {
   "cell_type": "code",
   "execution_count": 7,
   "metadata": {},
   "outputs": [],
   "source": [
    "features = [\n",
    "    \"age\",\n",
    "    \"gender_U\",\n",
    "    \"gender_F\",\n",
    "    \"gender_M\",\n",
    "    \"issue_dayofyear\",\n",
    "    \"issue_hour\",\n",
    "    \"issue_weekday\",\n",
    "    \"issue_dayofmonth\",\n",
    "    \"issue_year\",\n",
    "    \"issue_month\",\n",
    "    \"issue_weekofyear\",\n",
    "    \"issue_week\",\n",
    "    \"issue_quarter\",\n",
    "    \"redeem_issue_diff\",\n",
    "    \"gender_freq_enc\",\n",
    "    \"strange_age\",\n",
    "]\n",
    "df = clients_df.set_index('client_id')[features]"
   ]
  },
  {
   "cell_type": "code",
   "execution_count": 8,
   "metadata": {},
   "outputs": [],
   "source": [
    "train_df = pd.read_csv(\"../../data/raw/uplift_train.csv\", index_col='client_id')\n",
    "test_df = pd.read_csv(\"../../data/raw/uplift_test.csv\", index_col='client_id')"
   ]
  },
  {
   "cell_type": "code",
   "execution_count": 9,
   "metadata": {},
   "outputs": [],
   "source": [
    "indices_train = train_df.index\n",
    "indices_test = test_df.index\n",
    "indices_learn, indices_valid = train_test_split(train_df.index, test_size=0.3, random_state=42)"
   ]
  },
  {
   "cell_type": "code",
   "execution_count": null,
   "metadata": {},
   "outputs": [],
   "source": [
    "# 1. Train model on control data."
   ]
  },
  {
   "cell_type": "code",
   "execution_count": 45,
   "metadata": {},
   "outputs": [],
   "source": [
    "X_train_control = df.loc[indices_learn][train_df.loc[indices_learn]['treatment_flg'] == 0]\n",
    "y_train_control = train_df.loc[indices_learn][train_df.loc[indices_learn]['treatment_flg'] == 0]['target']\n",
    "assert X_train_control.shape[0] == y_train_control.shape[0]"
   ]
  },
  {
   "cell_type": "code",
   "execution_count": 50,
   "metadata": {},
   "outputs": [
    {
     "data": {
      "text/plain": [
       "XGBClassifier(base_score=0.5, booster='gbtree', colsample_bylevel=1,\n",
       "              colsample_bynode=1, colsample_bytree=1, gamma=0,\n",
       "              learning_rate=0.1, max_delta_step=0, max_depth=3,\n",
       "              min_child_weight=1, missing=None, n_estimators=100, n_jobs=1,\n",
       "              nthread=None, objective='binary:logistic', random_state=0,\n",
       "              reg_alpha=0, reg_lambda=1, scale_pos_weight=1, seed=None,\n",
       "              silent=None, subsample=1, verbosity=1)"
      ]
     },
     "execution_count": 50,
     "metadata": {},
     "output_type": "execute_result"
    }
   ],
   "source": [
    "clf = xgboost.XGBClassifier()\n",
    "clf.fit(X_train_control, y_train_control)"
   ]
  },
  {
   "cell_type": "code",
   "execution_count": 46,
   "metadata": {},
   "outputs": [],
   "source": [
    "# 2. Use model prediction on treatment data as feature."
   ]
  },
  {
   "cell_type": "code",
   "execution_count": 51,
   "metadata": {},
   "outputs": [],
   "source": [
    "X_train_treatment = df.loc[indices_learn][train_df.loc[indices_learn]['treatment_flg'] == 1]\n",
    "y_train_treatment = train_df.loc[indices_learn][train_df.loc[indices_learn]['treatment_flg'] == 1]['target']\n",
    "assert X_train_treatment.shape[0] == y_train_treatment.shape[0]"
   ]
  },
  {
   "cell_type": "code",
   "execution_count": 52,
   "metadata": {},
   "outputs": [],
   "source": [
    "X_train_treatment['prediction_1'] = clf.predict_proba(X_train_treatment)[:, 1]"
   ]
  },
  {
   "cell_type": "code",
   "execution_count": 54,
   "metadata": {},
   "outputs": [
    {
     "data": {
      "text/plain": [
       "XGBClassifier(base_score=0.5, booster='gbtree', colsample_bylevel=1,\n",
       "              colsample_bynode=1, colsample_bytree=1, gamma=0,\n",
       "              learning_rate=0.1, max_delta_step=0, max_depth=3,\n",
       "              min_child_weight=1, missing=None, n_estimators=100, n_jobs=1,\n",
       "              nthread=None, objective='binary:logistic', random_state=0,\n",
       "              reg_alpha=0, reg_lambda=1, scale_pos_weight=1, seed=None,\n",
       "              silent=None, subsample=1, verbosity=1)"
      ]
     },
     "execution_count": 54,
     "metadata": {},
     "output_type": "execute_result"
    }
   ],
   "source": [
    "clf2 = xgboost.XGBClassifier()\n",
    "clf2.fit(X_train_treatment, y_train_treatment)"
   ]
  },
  {
   "cell_type": "code",
   "execution_count": null,
   "metadata": {},
   "outputs": [],
   "source": []
  },
  {
   "cell_type": "code",
   "execution_count": 43,
   "metadata": {},
   "outputs": [],
   "source": [
    "X_valid = df.loc[indices_valid, :]\n",
    "y_valid = train_df.loc[indices_valid, 'target']"
   ]
  },
  {
   "cell_type": "code",
   "execution_count": 55,
   "metadata": {},
   "outputs": [],
   "source": [
    "predict_control = clf.predict_proba(X_valid)[:, 1]\n",
    "X_valid['prediction_1'] = clf.predict_proba(X_valid)[:, 1]\n",
    "predict_treatment = clf2.predict_proba(X_valid)[:, 1]\n",
    "predict_uplift = predict_treatment - predict_control"
   ]
  },
  {
   "cell_type": "code",
   "execution_count": 33,
   "metadata": {},
   "outputs": [],
   "source": [
    "def uplift_score(prediction, treatment, target, rate=0.3):\n",
    "    \"\"\"\n",
    "    Подсчет Uplift Score\n",
    "    \"\"\"\n",
    "    order = np.argsort(-prediction)\n",
    "    treatment_n = int((treatment == 1).sum() * rate)\n",
    "    treatment_p = target[order][treatment[order] == 1][:treatment_n].mean()\n",
    "    control_n = int((treatment == 0).sum() * rate)\n",
    "    control_p = target[order][treatment[order] == 0][:control_n].mean()\n",
    "    score = treatment_p - control_p\n",
    "    return score"
   ]
  },
  {
   "cell_type": "code",
   "execution_count": 56,
   "metadata": {},
   "outputs": [],
   "source": [
    "valid_score = uplift_score(\n",
    "    predict_uplift,\n",
    "    treatment=train_df.loc[indices_valid, 'treatment_flg'].values,\n",
    "    target=train_df.loc[indices_valid, 'target'].values,\n",
    ")"
   ]
  },
  {
   "cell_type": "code",
   "execution_count": 57,
   "metadata": {},
   "outputs": [
    {
     "data": {
      "text/plain": [
       "0.06555880976314943"
      ]
     },
     "execution_count": 57,
     "metadata": {},
     "output_type": "execute_result"
    }
   ],
   "source": [
    "valid_score"
   ]
  },
  {
   "cell_type": "code",
   "execution_count": null,
   "metadata": {},
   "outputs": [],
   "source": []
  },
  {
   "cell_type": "code",
   "execution_count": 58,
   "metadata": {},
   "outputs": [],
   "source": [
    "X_test = df.loc[indices_test, :]"
   ]
  },
  {
   "cell_type": "code",
   "execution_count": 59,
   "metadata": {},
   "outputs": [],
   "source": [
    "predict_control = clf.predict_proba(X_test)[:, 1]\n",
    "X_test['prediction_1'] = clf.predict_proba(X_test)[:, 1]\n",
    "predict_treatment = clf_2.predict_proba(X_test)[:, 1]\n",
    "predict_uplift = predict_treatment - predict_control"
   ]
  },
  {
   "cell_type": "code",
   "execution_count": 60,
   "metadata": {},
   "outputs": [],
   "source": [
    "df_submission = pd.DataFrame({'uplift': predict_uplift}, index=test_df.index)"
   ]
  },
  {
   "cell_type": "code",
   "execution_count": 61,
   "metadata": {},
   "outputs": [],
   "source": [
    "df_submission.to_csv('../../data/submissions/baseline_ddr.csv')"
   ]
  },
  {
   "cell_type": "code",
   "execution_count": null,
   "metadata": {},
   "outputs": [],
   "source": []
  }
 ],
 "metadata": {
  "kernelspec": {
   "display_name": "Python 3",
   "language": "python",
   "name": "python3"
  },
  "language_info": {
   "codemirror_mode": {
    "name": "ipython",
    "version": 3
   },
   "file_extension": ".py",
   "mimetype": "text/x-python",
   "name": "python",
   "nbconvert_exporter": "python",
   "pygments_lexer": "ipython3",
   "version": "3.7.3"
  }
 },
 "nbformat": 4,
 "nbformat_minor": 4
}
