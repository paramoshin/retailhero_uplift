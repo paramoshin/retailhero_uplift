{
 "cells": [
  {
   "cell_type": "code",
   "execution_count": 1,
   "metadata": {},
   "outputs": [],
   "source": [
    "import pandas as pd\n",
    "import numpy as np\n",
    "from sklearn.model_selection import train_test_split\n",
    "from sklearn.base import clone\n",
    "import xgboost"
   ]
  },
  {
   "cell_type": "code",
   "execution_count": 2,
   "metadata": {},
   "outputs": [],
   "source": [
    "clients_df = pd.read_csv(\"../../data/raw/clients.csv\", parse_dates=['first_issue_date', 'first_redeem_date'])\n",
    "# products_df = pd.read_csv(\"../../data/raw/products.csv\")\n",
    "# purchases_df = pd.read_csv(\"../../data/raw/purchases.csv\", parse_dates=['transaction_datetime'])"
   ]
  },
  {
   "cell_type": "code",
   "execution_count": 3,
   "metadata": {},
   "outputs": [],
   "source": [
    "clients_df['issue_dayofyear'] = clients_df['first_issue_date'].dt.dayofyear\n",
    "clients_df['issue_hour'] = clients_df['first_issue_date'].dt.hour\n",
    "clients_df['issue_weekday'] = clients_df['first_issue_date'].dt.weekday\n",
    "clients_df['issue_dayofmonth'] = clients_df['first_issue_date'].dt.day\n",
    "clients_df['issue_year'] = clients_df['first_issue_date'].dt.year\n",
    "clients_df['issue_month'] = clients_df['first_issue_date'].dt.month\n",
    "clients_df['issue_weekofyear'] = clients_df['first_issue_date'].dt.weekofyear\n",
    "clients_df['issue_week'] = clients_df['first_issue_date'].dt.week\n",
    "clients_df['issue_quarter'] = clients_df['first_issue_date'].dt.quarter"
   ]
  },
  {
   "cell_type": "code",
   "execution_count": 4,
   "metadata": {},
   "outputs": [],
   "source": [
    "clients_df['redeem_issue_diff'] = (clients_df['first_redeem_date'] - clients_df['first_issue_date']).dt.total_seconds()\n",
    "cat_col = \"gender\"\n",
    "encoding = clients_df.groupby(f\"{cat_col}\").size()\n",
    "encoding = encoding / clients_df.shape[0]\n",
    "clients_df[f\"{cat_col}_freq_enc\"] = clients_df[f\"{cat_col}\"].map(encoding)"
   ]
  },
  {
   "cell_type": "code",
   "execution_count": 5,
   "metadata": {},
   "outputs": [],
   "source": [
    "clients_df['strange_age'] = (clients_df['age'] < clients_df['age'].quantile(.01)) | (clients_df['age'] > clients_df['age'].quantile(.99))\n",
    "clients_df['strange_age'] = clients_df['strange_age'].astype(int)"
   ]
  },
  {
   "cell_type": "code",
   "execution_count": 6,
   "metadata": {},
   "outputs": [],
   "source": [
    "for value in clients_df['gender'].unique():\n",
    "    clients_df[f'gender_{value}'] = (clients_df['gender'] == value).astype(int)"
   ]
  },
  {
   "cell_type": "code",
   "execution_count": 7,
   "metadata": {},
   "outputs": [],
   "source": [
    "features = [\n",
    "    \"age\",\n",
    "    \"gender_U\",\n",
    "    \"gender_F\",\n",
    "    \"gender_M\",\n",
    "    \"issue_dayofyear\",\n",
    "    \"issue_hour\",\n",
    "    \"issue_weekday\",\n",
    "    \"issue_dayofmonth\",\n",
    "    \"issue_year\",\n",
    "    \"issue_month\",\n",
    "    \"issue_weekofyear\",\n",
    "    \"issue_week\",\n",
    "    \"issue_quarter\",\n",
    "    \"redeem_issue_diff\",\n",
    "    \"gender_freq_enc\",\n",
    "    \"strange_age\",\n",
    "]\n",
    "df = clients_df.set_index('client_id')[features]"
   ]
  },
  {
   "cell_type": "code",
   "execution_count": 8,
   "metadata": {},
   "outputs": [],
   "source": [
    "train_df = pd.read_csv(\"../../data/raw/uplift_train.csv\", index_col='client_id')\n",
    "test_df = pd.read_csv(\"../../data/raw/uplift_test.csv\", index_col='client_id')"
   ]
  },
  {
   "cell_type": "code",
   "execution_count": 9,
   "metadata": {},
   "outputs": [
    {
     "data": {
      "text/html": [
       "<div>\n",
       "<style scoped>\n",
       "    .dataframe tbody tr th:only-of-type {\n",
       "        vertical-align: middle;\n",
       "    }\n",
       "\n",
       "    .dataframe tbody tr th {\n",
       "        vertical-align: top;\n",
       "    }\n",
       "\n",
       "    .dataframe thead th {\n",
       "        text-align: right;\n",
       "    }\n",
       "</style>\n",
       "<table border=\"1\" class=\"dataframe\">\n",
       "  <thead>\n",
       "    <tr style=\"text-align: right;\">\n",
       "      <th></th>\n",
       "      <th>treatment_flg</th>\n",
       "      <th>target</th>\n",
       "    </tr>\n",
       "    <tr>\n",
       "      <th>client_id</th>\n",
       "      <th></th>\n",
       "      <th></th>\n",
       "    </tr>\n",
       "  </thead>\n",
       "  <tbody>\n",
       "    <tr>\n",
       "      <th>000012768d</th>\n",
       "      <td>0</td>\n",
       "      <td>1</td>\n",
       "    </tr>\n",
       "    <tr>\n",
       "      <th>000036f903</th>\n",
       "      <td>1</td>\n",
       "      <td>1</td>\n",
       "    </tr>\n",
       "    <tr>\n",
       "      <th>00010925a5</th>\n",
       "      <td>1</td>\n",
       "      <td>1</td>\n",
       "    </tr>\n",
       "    <tr>\n",
       "      <th>0001f552b0</th>\n",
       "      <td>1</td>\n",
       "      <td>1</td>\n",
       "    </tr>\n",
       "    <tr>\n",
       "      <th>00020e7b18</th>\n",
       "      <td>1</td>\n",
       "      <td>1</td>\n",
       "    </tr>\n",
       "  </tbody>\n",
       "</table>\n",
       "</div>"
      ],
      "text/plain": [
       "            treatment_flg  target\n",
       "client_id                        \n",
       "000012768d              0       1\n",
       "000036f903              1       1\n",
       "00010925a5              1       1\n",
       "0001f552b0              1       1\n",
       "00020e7b18              1       1"
      ]
     },
     "execution_count": 9,
     "metadata": {},
     "output_type": "execute_result"
    }
   ],
   "source": [
    "train_df.head()"
   ]
  },
  {
   "cell_type": "code",
   "execution_count": 10,
   "metadata": {},
   "outputs": [
    {
     "data": {
      "text/html": [
       "<div>\n",
       "<style scoped>\n",
       "    .dataframe tbody tr th:only-of-type {\n",
       "        vertical-align: middle;\n",
       "    }\n",
       "\n",
       "    .dataframe tbody tr th {\n",
       "        vertical-align: top;\n",
       "    }\n",
       "\n",
       "    .dataframe thead th {\n",
       "        text-align: right;\n",
       "    }\n",
       "</style>\n",
       "<table border=\"1\" class=\"dataframe\">\n",
       "  <thead>\n",
       "    <tr style=\"text-align: right;\">\n",
       "      <th></th>\n",
       "      <th>treatment_flg</th>\n",
       "      <th>target</th>\n",
       "      <th>new_target</th>\n",
       "    </tr>\n",
       "    <tr>\n",
       "      <th>client_id</th>\n",
       "      <th></th>\n",
       "      <th></th>\n",
       "      <th></th>\n",
       "    </tr>\n",
       "  </thead>\n",
       "  <tbody>\n",
       "    <tr>\n",
       "      <th>000012768d</th>\n",
       "      <td>0</td>\n",
       "      <td>1</td>\n",
       "      <td>0</td>\n",
       "    </tr>\n",
       "    <tr>\n",
       "      <th>000036f903</th>\n",
       "      <td>1</td>\n",
       "      <td>1</td>\n",
       "      <td>1</td>\n",
       "    </tr>\n",
       "    <tr>\n",
       "      <th>00010925a5</th>\n",
       "      <td>1</td>\n",
       "      <td>1</td>\n",
       "      <td>1</td>\n",
       "    </tr>\n",
       "    <tr>\n",
       "      <th>0001f552b0</th>\n",
       "      <td>1</td>\n",
       "      <td>1</td>\n",
       "      <td>1</td>\n",
       "    </tr>\n",
       "    <tr>\n",
       "      <th>00020e7b18</th>\n",
       "      <td>1</td>\n",
       "      <td>1</td>\n",
       "      <td>1</td>\n",
       "    </tr>\n",
       "  </tbody>\n",
       "</table>\n",
       "</div>"
      ],
      "text/plain": [
       "            treatment_flg  target  new_target\n",
       "client_id                                    \n",
       "000012768d              0       1           0\n",
       "000036f903              1       1           1\n",
       "00010925a5              1       1           1\n",
       "0001f552b0              1       1           1\n",
       "00020e7b18              1       1           1"
      ]
     },
     "execution_count": 10,
     "metadata": {},
     "output_type": "execute_result"
    }
   ],
   "source": [
    "train_df['new_target'] = ((train_df['treatment_flg'] == 1) & (train_df['target'] ==  1)) | ((train_df['treatment_flg'] == 0) & (train_df['target'] == 0))\n",
    "train_df['new_target'] = train_df['new_target'].astype(int)\n",
    "train_df.head()"
   ]
  },
  {
   "cell_type": "code",
   "execution_count": 11,
   "metadata": {},
   "outputs": [],
   "source": [
    "indices_train = train_df.index\n",
    "indices_test = test_df.index\n",
    "indices_learn, indices_valid = train_test_split(train_df.index, test_size=0.3, random_state=42)"
   ]
  },
  {
   "cell_type": "code",
   "execution_count": 12,
   "metadata": {},
   "outputs": [
    {
     "data": {
      "text/plain": [
       "0.5170799173498634"
      ]
     },
     "execution_count": 12,
     "metadata": {},
     "output_type": "execute_result"
    }
   ],
   "source": [
    "X_train = df.loc[indices_learn, :]\n",
    "y_train = train_df.loc[indices_learn, 'new_target']\n",
    "\n",
    "X_test = df.loc[indices_valid, :]\n",
    "y_test = train_df.loc[indices_valid, 'new_target']\n",
    "\n",
    "clf = xgboost.XGBClassifier()\n",
    "clf.fit(X_train, y_train)\n",
    "predict_new_target = clf.predict_proba(X_test)[:, 1]\n",
    "valid_uplift = (2 * predict_new_target) - 1\n",
    "clf.score(X_test, y_test)"
   ]
  },
  {
   "cell_type": "code",
   "execution_count": null,
   "metadata": {},
   "outputs": [],
   "source": []
  },
  {
   "cell_type": "code",
   "execution_count": 18,
   "metadata": {},
   "outputs": [],
   "source": [
    "import scipy.stats as st\n",
    "from sklearn.model_selection import RandomizedSearchCV, StratifiedKFold"
   ]
  },
  {
   "cell_type": "code",
   "execution_count": 21,
   "metadata": {},
   "outputs": [
    {
     "data": {
      "text/plain": [
       "RandomizedSearchCV(cv=StratifiedKFold(n_splits=5, random_state=None, shuffle=False),\n",
       "                   error_score='raise-deprecating',\n",
       "                   estimator=XGBClassifier(base_score=0.5, booster='gbtree',\n",
       "                                           colsample_bylevel=1,\n",
       "                                           colsample_bynode=1,\n",
       "                                           colsample_bytree=1, gamma=0,\n",
       "                                           learning_rate=0.1, max_delta_step=0,\n",
       "                                           max_depth=3, min_child_weight=1,\n",
       "                                           missing=None, n_estimators=100,\n",
       "                                           n_jobs=1, nthread=N...\n",
       "                                        'n_estimators': <scipy.stats._distn_infrastructure.rv_frozen object at 0x0000027E12D446D8>,\n",
       "                                        'reg_alpha': <scipy.stats._distn_infrastructure.rv_frozen object at 0x0000027E125B1F60>,\n",
       "                                        'subsample': <scipy.stats._distn_infrastructure.rv_frozen object at 0x0000027E125B1198>},\n",
       "                   pre_dispatch='2*n_jobs', random_state=42, refit=True,\n",
       "                   return_train_score=False, scoring=None, verbose=0)"
      ]
     },
     "execution_count": 21,
     "metadata": {},
     "output_type": "execute_result"
    }
   ],
   "source": [
    "clf = xgboost.XGBClassifier()\n",
    "params_grid = {\n",
    "    \"n_estimators\": st.randint(100, 500),\n",
    "    \"colsample_bytree\": st.beta(10, 1),\n",
    "    \"subsample\": st.beta(10, 1),\n",
    "    \"gamma\": st.uniform(0, 10),\n",
    "    'reg_alpha': st.expon(0, 50),\n",
    "    \"min_child_weight\": st.expon(0, 50),\n",
    "    \"learning_rate\": st.uniform(0.06, 0.12),\n",
    "    'max_depth': st.randint(6, 30)\n",
    "}\n",
    "cv = StratifiedKFold(n_splits=5)\n",
    "search_sk = RandomizedSearchCV(clf, params_grid, cv=cv, random_state=42, n_iter=20)  # 5 fold cross validation\n",
    "search_sk.fit(X_train, y_train)"
   ]
  },
  {
   "cell_type": "code",
   "execution_count": 22,
   "metadata": {},
   "outputs": [
    {
     "name": "stdout",
     "output_type": "stream",
     "text": [
      "best parameters: {'colsample_bytree': 0.9303737761527869, 'gamma': 5.926967238793935, 'learning_rate': 0.06970239915992582, 'max_depth': 29, 'min_child_weight': 13.566658616790289, 'n_estimators': 354, 'reg_alpha': 81.26306126260499, 'subsample': 0.8074961064961306}\n",
      "best score: 0.5157648167853343\n"
     ]
    }
   ],
   "source": [
    "# best parameters\n",
    "print(\"best parameters:\", search_sk.best_params_); print(\"best score:\", search_sk.best_score_)"
   ]
  },
  {
   "cell_type": "code",
   "execution_count": 23,
   "metadata": {},
   "outputs": [
    {
     "data": {
      "text/plain": [
       "0.518512964073852"
      ]
     },
     "execution_count": 23,
     "metadata": {},
     "output_type": "execute_result"
    }
   ],
   "source": [
    "X_train = df.loc[indices_learn, :]\n",
    "y_train = train_df.loc[indices_learn, 'new_target']\n",
    "\n",
    "X_test = df.loc[indices_valid, :]\n",
    "y_test = train_df.loc[indices_valid, 'new_target']\n",
    "\n",
    "clf = xgboost.XGBClassifier(**search_sk.best_params_)\n",
    "clf.fit(X_train, y_train)\n",
    "predict_new_target = clf.predict_proba(X_test)[:, 1]\n",
    "valid_uplift = (2 * predict_new_target) - 1\n",
    "clf.score(X_test, y_test)"
   ]
  },
  {
   "cell_type": "code",
   "execution_count": null,
   "metadata": {},
   "outputs": [],
   "source": []
  },
  {
   "cell_type": "code",
   "execution_count": 19,
   "metadata": {},
   "outputs": [
    {
     "data": {
      "text/plain": [
       "-0.46572473645210266"
      ]
     },
     "execution_count": 19,
     "metadata": {},
     "output_type": "execute_result"
    }
   ],
   "source": [
    "n_users = int(len(valid_uplift) * 0.3)\n",
    "df_valid_uplift = pd.DataFrame({'uplift': valid_uplift}, index=train_df.loc[indices_valid].index).sort_values(by='uplift', ascending=False)\n",
    "df_valid_uplift['new_target'] = train_df.loc[indices_valid]['new_target']\n",
    "df_valid_uplift['diff'] = df_valid_uplift['uplift'] - df_valid_uplift['new_target']\n",
    "df_valid_uplift[:n_users]['diff'].mean()"
   ]
  },
  {
   "cell_type": "code",
   "execution_count": 27,
   "metadata": {},
   "outputs": [],
   "source": [
    "predict_new_target = clf.predict_proba(df.loc[indices_test, :])[:, 1]\n",
    "test_uplift = (2 * predict_new_target) - 1"
   ]
  },
  {
   "cell_type": "code",
   "execution_count": 28,
   "metadata": {},
   "outputs": [],
   "source": [
    "df_submission = pd.DataFrame({'uplift': test_uplift}, index=test_df.index)\n",
    "df_submission.to_csv('../../data/submissions/baseline_class_transformation.csv')"
   ]
  },
  {
   "cell_type": "code",
   "execution_count": null,
   "metadata": {},
   "outputs": [],
   "source": []
  }
 ],
 "metadata": {
  "kernelspec": {
   "display_name": "Python 3",
   "language": "python",
   "name": "python3"
  },
  "language_info": {
   "codemirror_mode": {
    "name": "ipython",
    "version": 3
   },
   "file_extension": ".py",
   "mimetype": "text/x-python",
   "name": "python",
   "nbconvert_exporter": "python",
   "pygments_lexer": "ipython3",
   "version": "3.7.3"
  }
 },
 "nbformat": 4,
 "nbformat_minor": 4
}
