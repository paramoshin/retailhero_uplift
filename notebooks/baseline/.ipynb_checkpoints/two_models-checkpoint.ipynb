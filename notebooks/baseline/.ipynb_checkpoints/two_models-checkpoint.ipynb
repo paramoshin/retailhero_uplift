{
 "cells": [
  {
   "cell_type": "code",
   "execution_count": 1,
   "metadata": {},
   "outputs": [
    {
     "name": "stderr",
     "output_type": "stream",
     "text": [
      "C:\\ProgramData\\Anaconda3\\lib\\importlib\\_bootstrap.py:219: RuntimeWarning: numpy.ufunc size changed, may indicate binary incompatibility. Expected 192 from C header, got 216 from PyObject\n",
      "  return f(*args, **kwds)\n",
      "C:\\ProgramData\\Anaconda3\\lib\\importlib\\_bootstrap.py:219: RuntimeWarning: numpy.ufunc size changed, may indicate binary incompatibility. Expected 192 from C header, got 216 from PyObject\n",
      "  return f(*args, **kwds)\n"
     ]
    }
   ],
   "source": [
    "import pandas as pd\n",
    "import numpy as np\n",
    "from sklearn.model_selection import train_test_split\n",
    "import xgboost"
   ]
  },
  {
   "cell_type": "code",
   "execution_count": 3,
   "metadata": {},
   "outputs": [],
   "source": [
    "clients_df = pd.read_csv(\"../../data/raw/clients.csv\", parse_dates=['first_issue_date', 'first_redeem_date'])\n",
    "products_df = pd.read_csv(\"../../data/raw/products.csv\")\n",
    "purchases_df = pd.read_csv(\"../../data/raw/purchases.csv\", parse_dates=['transaction_datetime'])"
   ]
  },
  {
   "cell_type": "code",
   "execution_count": 5,
   "metadata": {},
   "outputs": [],
   "source": [
    "clients_df['issue_dayofyear'] = clients_df['first_issue_date'].dt.dayofyear\n",
    "clients_df['issue_hour'] = clients_df['first_issue_date'].dt.hour\n",
    "clients_df['issue_weekday'] = clients_df['first_issue_date'].dt.weekday\n",
    "clients_df['issue_dayofmonth'] = clients_df['first_issue_date'].dt.day\n",
    "clients_df['issue_year'] = clients_df['first_issue_date'].dt.year\n",
    "clients_df['issue_month'] = clients_df['first_issue_date'].dt.month\n",
    "clients_df['issue_weekofyear'] = clients_df['first_issue_date'].dt.weekofyear\n",
    "clients_df['issue_week'] = clients_df['first_issue_date'].dt.week\n",
    "clients_df['issue_quarter'] = clients_df['first_issue_date'].dt.quarter"
   ]
  },
  {
   "cell_type": "code",
   "execution_count": 11,
   "metadata": {},
   "outputs": [],
   "source": [
    "clients_df['redeem_issue_diff'] = (clients_df['first_redeem_date'] - clients_df['first_issue_date']).dt.total_seconds()\n",
    "cat_col = \"gender\"\n",
    "encoding = clients_df.groupby(f\"{cat_col}\").size()\n",
    "encoding = encoding / clients_df.shape[0]\n",
    "clients_df[f\"{cat_col}_freq_enc\"] = clients_df[f\"{cat_col}\"].map(encoding)"
   ]
  },
  {
   "cell_type": "code",
   "execution_count": 12,
   "metadata": {},
   "outputs": [],
   "source": [
    "clients_df['strange_age'] = (clients_df['age'] < clients_df['age'].quantile(.01)) | (clients_df['age'] > clients_df['age'].quantile(.99))\n",
    "clients_df['strange_age'] = clients_df['strange_age'].astype(int)"
   ]
  },
  {
   "cell_type": "code",
   "execution_count": 19,
   "metadata": {},
   "outputs": [],
   "source": [
    "for value in clients_df['gender'].unique():\n",
    "    clients_df[f'gender_{value}'] = (clients_df['gender'] == value).astype(int)"
   ]
  },
  {
   "cell_type": "code",
   "execution_count": 20,
   "metadata": {},
   "outputs": [
    {
     "data": {
      "text/html": [
       "<div>\n",
       "<style scoped>\n",
       "    .dataframe tbody tr th:only-of-type {\n",
       "        vertical-align: middle;\n",
       "    }\n",
       "\n",
       "    .dataframe tbody tr th {\n",
       "        vertical-align: top;\n",
       "    }\n",
       "\n",
       "    .dataframe thead th {\n",
       "        text-align: right;\n",
       "    }\n",
       "</style>\n",
       "<table border=\"1\" class=\"dataframe\">\n",
       "  <thead>\n",
       "    <tr style=\"text-align: right;\">\n",
       "      <th></th>\n",
       "      <th>client_id</th>\n",
       "      <th>first_issue_date</th>\n",
       "      <th>first_redeem_date</th>\n",
       "      <th>age</th>\n",
       "      <th>gender</th>\n",
       "      <th>issue_dayofyear</th>\n",
       "      <th>issue_hour</th>\n",
       "      <th>issue_weekday</th>\n",
       "      <th>issue_dayofmonth</th>\n",
       "      <th>issue_year</th>\n",
       "      <th>issue_month</th>\n",
       "      <th>issue_weekofyear</th>\n",
       "      <th>issue_week</th>\n",
       "      <th>issue_quarter</th>\n",
       "      <th>redeem_issue_diff</th>\n",
       "      <th>gender_freq_enc</th>\n",
       "      <th>strange_age</th>\n",
       "      <th>gender_U</th>\n",
       "      <th>gender_F</th>\n",
       "      <th>gender_M</th>\n",
       "    </tr>\n",
       "  </thead>\n",
       "  <tbody>\n",
       "    <tr>\n",
       "      <th>0</th>\n",
       "      <td>000012768d</td>\n",
       "      <td>2017-08-05 15:40:48</td>\n",
       "      <td>2018-01-04 19:30:07</td>\n",
       "      <td>45</td>\n",
       "      <td>U</td>\n",
       "      <td>217</td>\n",
       "      <td>15</td>\n",
       "      <td>5</td>\n",
       "      <td>5</td>\n",
       "      <td>2017</td>\n",
       "      <td>8</td>\n",
       "      <td>31</td>\n",
       "      <td>31</td>\n",
       "      <td>3</td>\n",
       "      <td>13146559.0</td>\n",
       "      <td>0.464077</td>\n",
       "      <td>0</td>\n",
       "      <td>1</td>\n",
       "      <td>0</td>\n",
       "      <td>0</td>\n",
       "    </tr>\n",
       "    <tr>\n",
       "      <th>1</th>\n",
       "      <td>000036f903</td>\n",
       "      <td>2017-04-10 13:54:23</td>\n",
       "      <td>2017-04-23 12:37:56</td>\n",
       "      <td>72</td>\n",
       "      <td>F</td>\n",
       "      <td>100</td>\n",
       "      <td>13</td>\n",
       "      <td>0</td>\n",
       "      <td>10</td>\n",
       "      <td>2017</td>\n",
       "      <td>4</td>\n",
       "      <td>15</td>\n",
       "      <td>15</td>\n",
       "      <td>2</td>\n",
       "      <td>1118613.0</td>\n",
       "      <td>0.368973</td>\n",
       "      <td>0</td>\n",
       "      <td>0</td>\n",
       "      <td>1</td>\n",
       "      <td>0</td>\n",
       "    </tr>\n",
       "    <tr>\n",
       "      <th>2</th>\n",
       "      <td>000048b7a6</td>\n",
       "      <td>2018-12-15 13:33:11</td>\n",
       "      <td>NaT</td>\n",
       "      <td>68</td>\n",
       "      <td>F</td>\n",
       "      <td>349</td>\n",
       "      <td>13</td>\n",
       "      <td>5</td>\n",
       "      <td>15</td>\n",
       "      <td>2018</td>\n",
       "      <td>12</td>\n",
       "      <td>50</td>\n",
       "      <td>50</td>\n",
       "      <td>4</td>\n",
       "      <td>NaN</td>\n",
       "      <td>0.368973</td>\n",
       "      <td>0</td>\n",
       "      <td>0</td>\n",
       "      <td>1</td>\n",
       "      <td>0</td>\n",
       "    </tr>\n",
       "    <tr>\n",
       "      <th>3</th>\n",
       "      <td>000073194a</td>\n",
       "      <td>2017-05-23 12:56:14</td>\n",
       "      <td>2017-11-24 11:18:01</td>\n",
       "      <td>60</td>\n",
       "      <td>F</td>\n",
       "      <td>143</td>\n",
       "      <td>12</td>\n",
       "      <td>1</td>\n",
       "      <td>23</td>\n",
       "      <td>2017</td>\n",
       "      <td>5</td>\n",
       "      <td>21</td>\n",
       "      <td>21</td>\n",
       "      <td>2</td>\n",
       "      <td>15978107.0</td>\n",
       "      <td>0.368973</td>\n",
       "      <td>0</td>\n",
       "      <td>0</td>\n",
       "      <td>1</td>\n",
       "      <td>0</td>\n",
       "    </tr>\n",
       "    <tr>\n",
       "      <th>4</th>\n",
       "      <td>00007c7133</td>\n",
       "      <td>2017-05-22 16:17:08</td>\n",
       "      <td>2018-12-31 17:17:33</td>\n",
       "      <td>67</td>\n",
       "      <td>U</td>\n",
       "      <td>142</td>\n",
       "      <td>16</td>\n",
       "      <td>0</td>\n",
       "      <td>22</td>\n",
       "      <td>2017</td>\n",
       "      <td>5</td>\n",
       "      <td>21</td>\n",
       "      <td>21</td>\n",
       "      <td>2</td>\n",
       "      <td>50806825.0</td>\n",
       "      <td>0.464077</td>\n",
       "      <td>0</td>\n",
       "      <td>1</td>\n",
       "      <td>0</td>\n",
       "      <td>0</td>\n",
       "    </tr>\n",
       "  </tbody>\n",
       "</table>\n",
       "</div>"
      ],
      "text/plain": [
       "    client_id    first_issue_date   first_redeem_date  age gender  \\\n",
       "0  000012768d 2017-08-05 15:40:48 2018-01-04 19:30:07   45      U   \n",
       "1  000036f903 2017-04-10 13:54:23 2017-04-23 12:37:56   72      F   \n",
       "2  000048b7a6 2018-12-15 13:33:11                 NaT   68      F   \n",
       "3  000073194a 2017-05-23 12:56:14 2017-11-24 11:18:01   60      F   \n",
       "4  00007c7133 2017-05-22 16:17:08 2018-12-31 17:17:33   67      U   \n",
       "\n",
       "   issue_dayofyear  issue_hour  issue_weekday  issue_dayofmonth  issue_year  \\\n",
       "0              217          15              5                 5        2017   \n",
       "1              100          13              0                10        2017   \n",
       "2              349          13              5                15        2018   \n",
       "3              143          12              1                23        2017   \n",
       "4              142          16              0                22        2017   \n",
       "\n",
       "   issue_month  issue_weekofyear  issue_week  issue_quarter  \\\n",
       "0            8                31          31              3   \n",
       "1            4                15          15              2   \n",
       "2           12                50          50              4   \n",
       "3            5                21          21              2   \n",
       "4            5                21          21              2   \n",
       "\n",
       "   redeem_issue_diff  gender_freq_enc  strange_age  gender_U  gender_F  \\\n",
       "0         13146559.0         0.464077            0         1         0   \n",
       "1          1118613.0         0.368973            0         0         1   \n",
       "2                NaN         0.368973            0         0         1   \n",
       "3         15978107.0         0.368973            0         0         1   \n",
       "4         50806825.0         0.464077            0         1         0   \n",
       "\n",
       "   gender_M  \n",
       "0         0  \n",
       "1         0  \n",
       "2         0  \n",
       "3         0  \n",
       "4         0  "
      ]
     },
     "execution_count": 20,
     "metadata": {},
     "output_type": "execute_result"
    }
   ],
   "source": [
    "clients_df.head()"
   ]
  },
  {
   "cell_type": "code",
   "execution_count": 30,
   "metadata": {},
   "outputs": [],
   "source": [
    "features = [\n",
    "    \"age\",\n",
    "    \"gender_U\",\n",
    "    \"gender_F\",\n",
    "    \"gender_M\",\n",
    "    \"issue_dayofyear\",\n",
    "    \"issue_hour\",\n",
    "    \"issue_weekday\",\n",
    "    \"issue_dayofmonth\",\n",
    "    \"issue_year\",\n",
    "    \"issue_month\",\n",
    "    \"issue_weekofyear\",\n",
    "    \"issue_week\",\n",
    "    \"issue_quarter\",\n",
    "    \"redeem_issue_diff\",\n",
    "    \"gender_freq_enc\",\n",
    "    \"strange_age\",\n",
    "]\n",
    "df = clients_df.set_index('client_id')[features]"
   ]
  },
  {
   "cell_type": "code",
   "execution_count": 31,
   "metadata": {},
   "outputs": [],
   "source": [
    "train_df = pd.read_csv(\"../../data/raw/uplift_train.csv\", index_col='client_id')\n",
    "test_df = pd.read_csv(\"../../data/raw/uplift_test.csv\", index_col='client_id')"
   ]
  },
  {
   "cell_type": "code",
   "execution_count": 34,
   "metadata": {},
   "outputs": [
    {
     "data": {
      "text/html": [
       "<div>\n",
       "<style scoped>\n",
       "    .dataframe tbody tr th:only-of-type {\n",
       "        vertical-align: middle;\n",
       "    }\n",
       "\n",
       "    .dataframe tbody tr th {\n",
       "        vertical-align: top;\n",
       "    }\n",
       "\n",
       "    .dataframe thead th {\n",
       "        text-align: right;\n",
       "    }\n",
       "</style>\n",
       "<table border=\"1\" class=\"dataframe\">\n",
       "  <thead>\n",
       "    <tr style=\"text-align: right;\">\n",
       "      <th></th>\n",
       "      <th>treatment_flg</th>\n",
       "      <th>target</th>\n",
       "    </tr>\n",
       "    <tr>\n",
       "      <th>client_id</th>\n",
       "      <th></th>\n",
       "      <th></th>\n",
       "    </tr>\n",
       "  </thead>\n",
       "  <tbody>\n",
       "    <tr>\n",
       "      <th>000012768d</th>\n",
       "      <td>0</td>\n",
       "      <td>1</td>\n",
       "    </tr>\n",
       "    <tr>\n",
       "      <th>000036f903</th>\n",
       "      <td>1</td>\n",
       "      <td>1</td>\n",
       "    </tr>\n",
       "    <tr>\n",
       "      <th>00010925a5</th>\n",
       "      <td>1</td>\n",
       "      <td>1</td>\n",
       "    </tr>\n",
       "    <tr>\n",
       "      <th>0001f552b0</th>\n",
       "      <td>1</td>\n",
       "      <td>1</td>\n",
       "    </tr>\n",
       "    <tr>\n",
       "      <th>00020e7b18</th>\n",
       "      <td>1</td>\n",
       "      <td>1</td>\n",
       "    </tr>\n",
       "  </tbody>\n",
       "</table>\n",
       "</div>"
      ],
      "text/plain": [
       "            treatment_flg  target\n",
       "client_id                        \n",
       "000012768d              0       1\n",
       "000036f903              1       1\n",
       "00010925a5              1       1\n",
       "0001f552b0              1       1\n",
       "00020e7b18              1       1"
      ]
     },
     "execution_count": 34,
     "metadata": {},
     "output_type": "execute_result"
    }
   ],
   "source": [
    "train_df.head()"
   ]
  },
  {
   "cell_type": "code",
   "execution_count": 32,
   "metadata": {},
   "outputs": [],
   "source": [
    "indices_train = train_df.index\n",
    "indices_test = test_df.index\n",
    "indices_learn, indices_valid = train_test_split(train_df.index, test_size=0.3, random_state=42)"
   ]
  },
  {
   "cell_type": "code",
   "execution_count": 35,
   "metadata": {},
   "outputs": [],
   "source": [
    "X_train = df.loc[indices_learn, :]\n",
    "X_test = df.loc[indices_valid, :]"
   ]
  },
  {
   "cell_type": "code",
   "execution_count": 50,
   "metadata": {},
   "outputs": [],
   "source": [
    "train_is_treatment = train_df.loc[indices_learn]['treatment_flg'] == 1\n",
    "test_is_treatment = train_df.loc[indices_valid]['treatment_flg'] == 1"
   ]
  },
  {
   "cell_type": "code",
   "execution_count": 58,
   "metadata": {},
   "outputs": [],
   "source": [
    "X_train_treatment, y_train_treatment = X_train[train_is_treatment], train_df.loc[indices_learn][train_is_treatment]['target']\n",
    "X_test_treatment, y_test_treatment = X_test[test_is_treatment], train_df.loc[test_is_treatment.index]['target']"
   ]
  },
  {
   "cell_type": "code",
   "execution_count": null,
   "metadata": {},
   "outputs": [],
   "source": [
    "X_train_treatment, y_train_treatment = X_train[np.invert(train_is_treatment)], train_df.loc[train_is_treatment.index]['target']\n",
    "X_test_treatment, y_test_treatment = X_test[np.invert(test_is_treatment)], train_df.loc[test_is_treatment.index]['target']"
   ]
  },
  {
   "cell_type": "code",
   "execution_count": null,
   "metadata": {},
   "outputs": [],
   "source": [
    "treatment_model = xgboost.XGBClassifier()\n",
    "treatment_model.fit(X_train_treatment, y_train_treatment)"
   ]
  },
  {
   "cell_type": "code",
   "execution_count": null,
   "metadata": {},
   "outputs": [],
   "source": [
    "control_model = xgboost.XGBClassifier()\n",
    "control_model.fit(X_train_treatment, y_train_treatment)"
   ]
  }
 ],
 "metadata": {
  "kernelspec": {
   "display_name": "Python 3",
   "language": "python",
   "name": "python3"
  },
  "language_info": {
   "codemirror_mode": {
    "name": "ipython",
    "version": 3
   },
   "file_extension": ".py",
   "mimetype": "text/x-python",
   "name": "python",
   "nbconvert_exporter": "python",
   "pygments_lexer": "ipython3",
   "version": "3.7.3"
  }
 },
 "nbformat": 4,
 "nbformat_minor": 4
}
