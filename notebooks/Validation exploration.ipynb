{
 "cells": [
  {
   "cell_type": "code",
   "execution_count": 1,
   "metadata": {},
   "outputs": [],
   "source": [
    "import pandas as pd\n",
    "import numpy as np\n",
    "from sklearn.preprocessing import MinMaxScaler, StandardScaler\n",
    "from sklearn.linear_model import LogisticRegression\n",
    "from sklearn.model_selection import StratifiedKFold\n",
    "from sklearn.metrics import accuracy_score, roc_auc_score, log_loss\n",
    "import xgboost as xgb"
   ]
  },
  {
   "cell_type": "code",
   "execution_count": 6,
   "metadata": {},
   "outputs": [],
   "source": [
    "def read_train_test():\n",
    "    X_train = pd.read_csv(\n",
    "        \"X_train.csv\", index_col=\"client_id\"\n",
    "    )\n",
    "    y_train = pd.read_csv(\n",
    "        \"y_train.csv\",\n",
    "        header=None,\n",
    "        names=[\"client_id\", \"target\"],\n",
    "        index_col=\"client_id\"\n",
    "    )[\"target\"]\n",
    "    train_is_treatment = pd.read_csv(\n",
    "        \"X_train_is_treatment.csv\",\n",
    "        header=None,\n",
    "        names=[\"client_id\", \"is_treatment\"],\n",
    "        index_col=\"client_id\"\n",
    "    )[\"is_treatment\"]\n",
    "\n",
    "    X_valid = pd.read_csv(\"X_valid.csv\", index_col=\"client_id\")\n",
    "    y_valid = pd.read_csv(\n",
    "        \"y_valid.csv\",\n",
    "        header=None,\n",
    "        names=[\"client_id\", \"target\"],\n",
    "        index_col=\"client_id\"\n",
    "    )[\"target\"]\n",
    "    valid_is_treatment = pd.read_csv(\n",
    "        \"X_valid_is_treatment.csv\",\n",
    "        header=None,\n",
    "        names=[\"client_id\", \"is_treatment\"],\n",
    "        index_col=\"client_id\"\n",
    "    )[\"is_treatment\"]\n",
    "\n",
    "    X_test = pd.read_csv(\"X_test.csv\", index_col=\"client_id\")\n",
    "\n",
    "    return X_train, y_train, train_is_treatment, X_valid, y_valid, valid_is_treatment, X_test\n",
    "\n",
    "\n",
    "def join_train_validation(X_train, X_valid, y_train, y_valid):\n",
    "    X_train = pd.concat([X_train, X_valid], ignore_index=False)\n",
    "    y_train = pd.concat([y_train, y_valid], ignore_index=False)\n",
    "    return X_train, y_train\n",
    "\n",
    "\n",
    "def split_control_treatment(X, y, is_treatment):\n",
    "    X_control = X[is_treatment == 0]\n",
    "    X_treatment = X[is_treatment == 1]\n",
    "    y_control = y[is_treatment == 0]\n",
    "    y_treatment = y[is_treatment == 1]\n",
    "    return X_control, X_treatment, y_control, y_treatment"
   ]
  },
  {
   "cell_type": "code",
   "execution_count": 7,
   "metadata": {},
   "outputs": [],
   "source": [
    "def uplift_score(prediction, treatment, target, rate=0.3):\n",
    "    \"\"\"\n",
    "    Подсчет Uplift Score\n",
    "    \"\"\"\n",
    "    try:\n",
    "        order = np.argsort(-prediction.values)\n",
    "    except Exception:\n",
    "        order = np.argsort(-prediction)\n",
    "    treatment_n = int((treatment == 1).sum() * rate)\n",
    "#     print(f\"    number of treatment users: {treatment_n}\")\n",
    "    treatment_p = target[order][treatment[order] == 1][:treatment_n].mean()\n",
    "#     print(f\"    treatment p: {treatment_p}\")\n",
    "    control_n = int((treatment == 0).sum() * rate)\n",
    "#     print(f\"    number of control users: {treatment_n}\")\n",
    "    control_p = target[order][treatment[order] == 0][:control_n].mean()\n",
    "#     print(f\"    control p: {control_p}\")\n",
    "    score = treatment_p - control_p\n",
    "    return score"
   ]
  },
  {
   "cell_type": "markdown",
   "metadata": {},
   "source": [
    "# Baseline (no custom features, xgb without tuning)"
   ]
  },
  {
   "cell_type": "code",
   "execution_count": 8,
   "metadata": {},
   "outputs": [],
   "source": [
    "X_train, y_train, train_is_treatment, X_valid, y_valid, valid_is_treatment, X_test = read_train_test()"
   ]
  },
  {
   "cell_type": "code",
   "execution_count": 9,
   "metadata": {},
   "outputs": [],
   "source": [
    "X_train_control, X_train_treatment, y_train_control, y_train_treatment = split_control_treatment(\n",
    "    X_train, y_train, train_is_treatment\n",
    ")\n",
    "X_valid_control, X_valid_treatment, y_valid_control, y_valid_treatment = split_control_treatment(\n",
    "    X_valid, y_valid, valid_is_treatment\n",
    ")"
   ]
  },
  {
   "cell_type": "code",
   "execution_count": 6,
   "metadata": {},
   "outputs": [],
   "source": [
    "baseline_cols = [\n",
    "    'age', \n",
    "    'strange_age',\n",
    "    'gender_F',\n",
    "    'gender_M',\n",
    "    'gender_U',\n",
    "    'redeem_issue_diff',\n",
    "    'first_issue_dayofyear',\n",
    "    'first_issue_hour',\n",
    "    'first_issue_weekday',\n",
    "    'first_issue_dayofmonth',\n",
    "    'first_issue_year',\n",
    "    'first_issue_month',\n",
    "    'first_issue_weekofyear',\n",
    "    'first_issue_week',\n",
    "    'first_issue_quarter',\n",
    "    'diff'\n",
    "]"
   ]
  },
  {
   "cell_type": "markdown",
   "metadata": {},
   "source": [
    "## Hold-out set"
   ]
  },
  {
   "cell_type": "code",
   "execution_count": 16,
   "metadata": {},
   "outputs": [
    {
     "name": "stdout",
     "output_type": "stream",
     "text": [
      "Control accuracy score: 0.6459208158368326\n",
      "Control roc auc score: 0.5998777443668605\n",
      "Control log loss: 0.6452512383476642\n",
      "\n",
      "Treatment accuracy score: 0.6455708858228354\n",
      "Treatment roc auc score: 0.601243738502897\n",
      "Treatment log loss: 0.6448943353969647\n",
      "\n",
      "Uplift score: 0.05122098384721485\n",
      "\n"
     ]
    }
   ],
   "source": [
    "X_train_baseline_cols = X_train[baseline_cols]\n",
    "X_valid_baseline_cols = X_valid[baseline_cols]\n",
    "\n",
    "X_train_control_, X_train_treatment_, y_train_control_, y_train_treatment_ = split_control_treatment(\n",
    "    X_train_baseline_cols, y_train, train_is_treatment\n",
    ")\n",
    "\n",
    "xgb_control = xgb.XGBClassifier().fit(X_train_control_, y_train_control_)\n",
    "control_preds = xgb_control.predict(X_valid_baseline_cols)\n",
    "control_proba = xgb_control.predict_proba(X_valid_baseline_cols)[:, 1]\n",
    "\n",
    "acc = accuracy_score(y_valid, control_preds)\n",
    "auc = roc_auc_score(y_valid, control_proba)\n",
    "logloss = log_loss(y_valid, control_proba)\n",
    "print(f\"Control accuracy score: {acc}\")\n",
    "print(f\"Control roc auc score: {auc}\")\n",
    "print(f\"Control log loss: {logloss}\\n\")\n",
    "\n",
    "xgb_treatment = xgb.XGBClassifier().fit(X_train_treatment_, y_train_treatment_)\n",
    "treatment_preds = xgb_treatment.predict(X_valid_baseline_cols)\n",
    "treatment_proba = xgb_treatment.predict_proba(X_valid_baseline_cols)[:, 1]\n",
    "acc = accuracy_score(y_valid, treatment_preds)\n",
    "auc = roc_auc_score(y_valid, treatment_proba)\n",
    "logloss = log_loss(y_valid, treatment_proba)\n",
    "print(f\"Treatment accuracy score: {acc}\")\n",
    "print(f\"Treatment roc auc score: {auc}\")\n",
    "print(f\"Treatment log loss: {logloss}\\n\")\n",
    "\n",
    "uplift = treatment_proba - control_proba\n",
    "up_score = uplift_score(uplift, valid_is_treatment, y_valid)\n",
    "uplifts.append(up_score)\n",
    "print(f\"Uplift score: {up_score}\\n\")"
   ]
  },
  {
   "cell_type": "markdown",
   "metadata": {},
   "source": [
    "## 1 K-fold CV (K=5)"
   ]
  },
  {
   "cell_type": "code",
   "execution_count": 9,
   "metadata": {},
   "outputs": [
    {
     "name": "stdout",
     "output_type": "stream",
     "text": [
      "\n",
      "Fold 1\n",
      "Control accuracy score: 0.6454525572531009\n",
      "Control roc auc score: 0.6018141863003091\n",
      "Control log loss: 0.6448891778220857\n",
      "\n",
      "Control accuracy score: 0.6459212047364639\n",
      "Control roc auc score: 0.605512802617282\n",
      "Control log loss: 0.6438640065787528\n",
      "\n",
      "Uplift score: 0.03449894908335316\n",
      "\n",
      "\n",
      "Fold 2\n",
      "Control accuracy score: 0.6429843471740557\n",
      "Control roc auc score: 0.5977008429527652\n",
      "Control log loss: 0.6467991020340398\n",
      "\n",
      "Control accuracy score: 0.6417033773861968\n",
      "Control roc auc score: 0.5985142158842853\n",
      "Control log loss: 0.647036450061057\n",
      "\n",
      "Uplift score: 0.05615416102931936\n",
      "\n",
      "\n",
      "Fold 3\n",
      "Control accuracy score: 0.6427232393926139\n",
      "Control roc auc score: 0.6028354718419726\n",
      "Control log loss: 0.6458837837590722\n",
      "\n",
      "Control accuracy score: 0.642660751109167\n",
      "Control roc auc score: 0.6032445732855591\n",
      "Control log loss: 0.6454938918599813\n",
      "\n",
      "Uplift score: 0.05743000549619892\n",
      "\n",
      "\n",
      "Fold 4\n",
      "Control accuracy score: 0.6460038742735738\n",
      "Control roc auc score: 0.6004235453624058\n",
      "Control log loss: 0.6450564669239024\n",
      "\n",
      "Control accuracy score: 0.6452540148722115\n",
      "Control roc auc score: 0.6024478378415461\n",
      "Control log loss: 0.6447069413556328\n",
      "\n",
      "Uplift score: 0.05417694448157284\n",
      "\n",
      "\n",
      "Fold 5\n",
      "Control accuracy score: 0.6450867052023121\n",
      "Control roc auc score: 0.602981244737258\n",
      "Control log loss: 0.6448612741475328\n",
      "\n",
      "Control accuracy score: 0.6443680674894547\n",
      "Control roc auc score: 0.6068103102211002\n",
      "Control log loss: 0.6440292918850642\n",
      "\n",
      "Uplift score: 0.036513819512518975\n",
      "\n",
      "\n",
      "Control average accuracy: 0.6444501446591313\n",
      "Control average rocauc: 0.6011510582389421\n",
      "Control average loglos: 0.6454979609373266\n",
      "\n",
      "Treatment average accuracy: 0.6439814831186987\n",
      "Treatment average rocauc: 0.6033059479699545\n",
      "Treatment average loglos: 0.6450261163480976\n",
      "\n",
      "Average uplift score: 0.04775477592059265\n",
      "\n",
      "\n"
     ]
    }
   ],
   "source": [
    "X_train_baseline_cols = X_train[baseline_cols]\n",
    "\n",
    "control_acc = []\n",
    "control_auc = []\n",
    "control_loglos = []\n",
    "\n",
    "treatment_acc = []\n",
    "treatment_auc = []\n",
    "treatment_loglos = []\n",
    "\n",
    "uplifts = []\n",
    "\n",
    "skfold = StratifiedKFold(n_splits=5, shuffle=True, random_state=142)\n",
    "for i, (train_idx, test_idx) in enumerate(skfold.split(X_train_baseline_cols, y_train)):\n",
    "    print(f\"\\nFold {i + 1}\")\n",
    "\n",
    "    X_train_, y_train_ = X_train_baseline_cols.iloc[train_idx], y_train.iloc[train_idx]\n",
    "    X_test_, y_test_ = X_train_baseline_cols.iloc[test_idx], y_train.iloc[test_idx]\n",
    "    train_is_treatment_, test_is_treatment_ = train_is_treatment.iloc[train_idx], train_is_treatment.iloc[test_idx]\n",
    "\n",
    "    X_train_control_, X_train_treatment_, y_train_control_, y_train_treatment_ = split_control_treatment(\n",
    "        X_train_, y_train_, train_is_treatment_\n",
    "    )\n",
    "\n",
    "    xgb_control = xgb.XGBClassifier().fit(X_train_control_, y_train_control_)\n",
    "    control_preds = xgb_control.predict(X_test_)\n",
    "    control_proba = xgb_control.predict_proba(X_test_)[:, 1]\n",
    "    acc = accuracy_score(y_test_, control_preds)\n",
    "    auc = roc_auc_score(y_test_, control_proba)\n",
    "    logloss = log_loss(y_test_, control_proba)\n",
    "    control_acc.append(acc)\n",
    "    control_auc.append(auc)\n",
    "    control_loglos.append(logloss)\n",
    "    print(f\"Control accuracy score: {acc}\")\n",
    "    print(f\"Control roc auc score: {auc}\")\n",
    "    print(f\"Control log loss: {logloss}\\n\")\n",
    "\n",
    "    xgb_treatment = xgb.XGBClassifier().fit(X_train_treatment_, y_train_treatment_)\n",
    "    treatment_preds = xgb_treatment.predict(X_test_)\n",
    "    treatment_proba = xgb_treatment.predict_proba(X_test_)[:, 1]\n",
    "    acc = accuracy_score(y_test_, treatment_preds)\n",
    "    auc = roc_auc_score(y_test_, treatment_proba)\n",
    "    logloss = log_loss(y_test_, treatment_proba)\n",
    "    treatment_acc.append(acc)\n",
    "    treatment_auc.append(auc)\n",
    "    treatment_loglos.append(logloss)\n",
    "    print(f\"Control accuracy score: {acc}\")\n",
    "    print(f\"Control roc auc score: {auc}\")\n",
    "    print(f\"Control log loss: {logloss}\\n\")\n",
    "\n",
    "    uplift = treatment_proba - control_proba\n",
    "    up_score = uplift_score(uplift, test_is_treatment_, y_test_)\n",
    "    uplifts.append(up_score)\n",
    "    print(f\"Uplift score: {up_score}\\n\")\n",
    "\n",
    "print(f\"\\nControl average accuracy: {np.mean(control_acc)}\")\n",
    "print(f\"Control average rocauc: {np.mean(control_auc)}\")\n",
    "print(f\"Control average loglos: {np.mean(control_loglos)}\\n\")\n",
    "\n",
    "print(f\"Treatment average accuracy: {np.mean(treatment_acc)}\")\n",
    "print(f\"Treatment average rocauc: {np.mean(treatment_auc)}\")\n",
    "print(f\"Treatment average loglos: {np.mean(treatment_loglos)}\\n\")\n",
    "\n",
    "print(f\"Average uplift score: {np.mean(uplifts)}\\n\\n\")"
   ]
  },
  {
   "cell_type": "markdown",
   "metadata": {},
   "source": [
    "## Average of 6 different K-folds"
   ]
  },
  {
   "cell_type": "code",
   "execution_count": 7,
   "metadata": {},
   "outputs": [
    {
     "name": "stdout",
     "output_type": "stream",
     "text": [
      "SEED 42\n",
      "\n",
      "Fold 1\n",
      "Control accuracy score: 0.6446714781141625\n",
      "Control roc auc score: 0.6008771663833372\n",
      "Control log loss: 0.6455221249061054\n",
      "\n",
      "Control accuracy score: 0.6447652076108351\n",
      "Control roc auc score: 0.6010536549168206\n",
      "Control log loss: 0.6452335429859388\n",
      "\n",
      "Uplift score: 0.05441349281565799\n",
      "\n",
      "\n",
      "Fold 2\n",
      "Control accuracy score: 0.644640234948605\n",
      "Control roc auc score: 0.6011751602371477\n",
      "Control log loss: 0.6451905292706189\n",
      "\n",
      "Control accuracy score: 0.6450776392664105\n",
      "Control roc auc score: 0.6026909351210843\n",
      "Control log loss: 0.6448732524417492\n",
      "\n",
      "Uplift score: 0.06140763807163163\n",
      "\n",
      "\n",
      "Fold 3\n",
      "Control accuracy score: 0.644410423045679\n",
      "Control roc auc score: 0.6039763139947711\n",
      "Control log loss: 0.644976954686264\n",
      "\n",
      "Control accuracy score: 0.6431919015184653\n",
      "Control roc auc score: 0.6086822617243062\n",
      "Control log loss: 0.6442083537481743\n",
      "\n",
      "Uplift score: 0.031003827298618836\n",
      "\n",
      "\n",
      "Fold 4\n",
      "Control accuracy score: 0.6430356808098482\n",
      "Control roc auc score: 0.5998687349947461\n",
      "Control log loss: 0.6461979204806613\n",
      "\n",
      "Control accuracy score: 0.6435980753608699\n",
      "Control roc auc score: 0.599708764844683\n",
      "Control log loss: 0.646042792950486\n",
      "\n",
      "Uplift score: 0.055614422227592386\n",
      "\n",
      "\n",
      "Fold 5\n",
      "Control accuracy score: 0.643711920012498\n",
      "Control roc auc score: 0.5987186997120997\n",
      "Control log loss: 0.6462115434320098\n",
      "\n",
      "Control accuracy score: 0.6444930479612561\n",
      "Control roc auc score: 0.6047511037314635\n",
      "Control log loss: 0.6448740114324485\n",
      "\n",
      "Uplift score: 0.03927737043259827\n",
      "\n",
      "\n",
      "Control average accuracy: 0.6440939473861585\n",
      "Control average rocauc: 0.6009232150644204\n",
      "Control average loglos: 0.645619814555132\n",
      "\n",
      "Treatment average accuracy: 0.6442251743435674\n",
      "Treatment average rocauc: 0.6033773440676715\n",
      "Treatment average loglos: 0.6450463907117593\n",
      "\n",
      "Average uplift score: 0.048343350169219826\n",
      "\n",
      "\n",
      "SEED 142\n",
      "\n",
      "Fold 1\n",
      "Control accuracy score: 0.6454525572531009\n",
      "Control roc auc score: 0.6018141863003091\n",
      "Control log loss: 0.6448891778220857\n",
      "\n",
      "Control accuracy score: 0.6459212047364639\n",
      "Control roc auc score: 0.605512802617282\n",
      "Control log loss: 0.6438640065787528\n",
      "\n",
      "Uplift score: 0.03449894908335316\n",
      "\n",
      "\n",
      "Fold 2\n",
      "Control accuracy score: 0.6429843471740557\n",
      "Control roc auc score: 0.5977008429527652\n",
      "Control log loss: 0.6467991020340398\n",
      "\n",
      "Control accuracy score: 0.6417033773861968\n",
      "Control roc auc score: 0.5985142158842853\n",
      "Control log loss: 0.647036450061057\n",
      "\n",
      "Uplift score: 0.05615416102931936\n",
      "\n",
      "\n",
      "Fold 3\n",
      "Control accuracy score: 0.6427232393926139\n",
      "Control roc auc score: 0.6028354718419726\n",
      "Control log loss: 0.6458837837590722\n",
      "\n",
      "Control accuracy score: 0.642660751109167\n",
      "Control roc auc score: 0.6032445732855591\n",
      "Control log loss: 0.6454938918599813\n",
      "\n",
      "Uplift score: 0.05743000549619892\n",
      "\n",
      "\n",
      "Fold 4\n",
      "Control accuracy score: 0.6460038742735738\n",
      "Control roc auc score: 0.6004235453624058\n",
      "Control log loss: 0.6450564669239024\n",
      "\n",
      "Control accuracy score: 0.6452540148722115\n",
      "Control roc auc score: 0.6024478378415461\n",
      "Control log loss: 0.6447069413556328\n",
      "\n",
      "Uplift score: 0.05417694448157284\n",
      "\n",
      "\n",
      "Fold 5\n",
      "Control accuracy score: 0.6450867052023121\n",
      "Control roc auc score: 0.602981244737258\n",
      "Control log loss: 0.6448612741475328\n",
      "\n",
      "Control accuracy score: 0.6443680674894547\n",
      "Control roc auc score: 0.6068103102211002\n",
      "Control log loss: 0.6440292918850642\n",
      "\n",
      "Uplift score: 0.036513819512518975\n",
      "\n",
      "\n",
      "Control average accuracy: 0.6444501446591313\n",
      "Control average rocauc: 0.6011510582389421\n",
      "Control average loglos: 0.6454979609373266\n",
      "\n",
      "Treatment average accuracy: 0.6439814831186987\n",
      "Treatment average rocauc: 0.6033059479699545\n",
      "Treatment average loglos: 0.6450261163480976\n",
      "\n",
      "Average uplift score: 0.04775477592059265\n",
      "\n",
      "\n",
      "SEED 242\n",
      "\n",
      "Fold 1\n",
      "Control accuracy score: 0.6448276939419502\n",
      "Control roc auc score: 0.6004565653079943\n",
      "Control log loss: 0.6455774579870949\n",
      "\n",
      "Control accuracy score: 0.6452338550941982\n",
      "Control roc auc score: 0.6042425963589406\n",
      "Control log loss: 0.6445695030480483\n",
      "\n",
      "Uplift score: 0.05609647879512425\n",
      "\n",
      "\n",
      "Fold 2\n",
      "Control accuracy score: 0.6441091011341269\n",
      "Control roc auc score: 0.599046082055219\n",
      "Control log loss: 0.6459195426599108\n",
      "\n",
      "Control accuracy score: 0.6436716968163214\n",
      "Control roc auc score: 0.597686199265693\n",
      "Control log loss: 0.6464758375631943\n",
      "\n",
      "Uplift score: 0.047232793662638106\n",
      "\n",
      "\n",
      "Fold 3\n",
      "Control accuracy score: 0.6436293195025933\n",
      "Control roc auc score: 0.6057724434288545\n",
      "Control log loss: 0.6449001311840568\n",
      "\n",
      "Control accuracy score: 0.6443166906205087\n",
      "Control roc auc score: 0.6053755525774553\n",
      "Control log loss: 0.6446279530330635\n",
      "\n",
      "Uplift score: 0.05072264962357542\n",
      "\n",
      "\n",
      "Fold 4\n",
      "Control accuracy score: 0.6468787102418296\n",
      "Control roc auc score: 0.6044622707076563\n",
      "Control log loss: 0.6444168318197339\n",
      "\n",
      "Control accuracy score: 0.6454102355808286\n",
      "Control roc auc score: 0.6079376268783059\n",
      "Control log loss: 0.6436092755752325\n",
      "\n",
      "Uplift score: 0.06700574533083381\n",
      "\n",
      "\n",
      "Fold 5\n",
      "Control accuracy score: 0.6427433213560381\n",
      "Control roc auc score: 0.5978691600202787\n",
      "Control log loss: 0.6461082198436959\n",
      "\n",
      "Control accuracy score: 0.6428058115919387\n",
      "Control roc auc score: 0.6022708716638303\n",
      "Control log loss: 0.645678386334292\n",
      "\n",
      "Uplift score: 0.027576598044194434\n",
      "\n",
      "\n",
      "Control average accuracy: 0.6444376292353076\n",
      "Control average rocauc: 0.6015213043040005\n",
      "Control average loglos: 0.6453844366988986\n",
      "\n",
      "Treatment average accuracy: 0.6442876579407592\n",
      "Treatment average rocauc: 0.603502569348845\n",
      "Treatment average loglos: 0.6449921911107661\n",
      "\n",
      "Average uplift score: 0.049726853091273206\n",
      "\n",
      "\n",
      "SEED 342\n",
      "\n",
      "Fold 1\n",
      "Control accuracy score: 0.644640234948605\n",
      "Control roc auc score: 0.602958479633502\n",
      "Control log loss: 0.6450531971333762\n",
      "\n",
      "Control accuracy score: 0.64457774861749\n",
      "Control roc auc score: 0.6030290613766925\n",
      "Control log loss: 0.6449135628868431\n",
      "\n",
      "Uplift score: 0.049740496140898816\n",
      "\n",
      "\n",
      "Fold 2\n",
      "Control accuracy score: 0.6424844565251351\n",
      "Control roc auc score: 0.6054338199130217\n",
      "Control log loss: 0.6454797390735849\n",
      "\n",
      "Control accuracy score: 0.6439216421407817\n",
      "Control roc auc score: 0.6040363067830818\n",
      "Control log loss: 0.6452719799751275\n",
      "\n",
      "Uplift score: 0.05764023459278489\n",
      "\n",
      "\n",
      "Fold 3\n",
      "Control accuracy score: 0.6453477472973818\n",
      "Control roc auc score: 0.5993964947435172\n",
      "Control log loss: 0.6451841693091958\n",
      "\n",
      "Control accuracy score: 0.6454414797225521\n",
      "Control roc auc score: 0.6013985223107963\n",
      "Control log loss: 0.6448746620766045\n",
      "\n",
      "Uplift score: 0.04885728655296595\n",
      "\n",
      "\n",
      "Fold 4\n",
      "Control accuracy score: 0.6465350246828719\n",
      "Control roc auc score: 0.6042260252655318\n",
      "Control log loss: 0.643787217827478\n",
      "\n",
      "Control accuracy score: 0.6476285696431919\n",
      "Control roc auc score: 0.608348816239946\n",
      "Control log loss: 0.642545458850511\n",
      "\n",
      "Uplift score: 0.04848486584287215\n",
      "\n",
      "\n",
      "Fold 5\n",
      "Control accuracy score: 0.6409311045149195\n",
      "Control roc auc score: 0.5971735444376511\n",
      "Control log loss: 0.6474121506536142\n",
      "\n",
      "Control accuracy score: 0.6411498203405718\n",
      "Control roc auc score: 0.5977713761073473\n",
      "Control log loss: 0.64809825035012\n",
      "\n",
      "Uplift score: 0.03314068189479169\n",
      "\n",
      "\n",
      "Control average accuracy: 0.6439877135937826\n",
      "Control average rocauc: 0.6018376727986448\n",
      "Control average loglos: 0.6453832947994498\n",
      "\n",
      "Treatment average accuracy: 0.6445438520929175\n",
      "Treatment average rocauc: 0.6029168165635728\n",
      "Treatment average loglos: 0.6451407828278413\n",
      "\n",
      "Average uplift score: 0.047572713004862696\n",
      "\n",
      "\n",
      "SEED 442\n",
      "\n",
      "Fold 1\n",
      "Control accuracy score: 0.6457337457431187\n",
      "Control roc auc score: 0.603399861488533\n",
      "Control log loss: 0.6446990160655088\n",
      "\n",
      "Control accuracy score: 0.6449526666041804\n",
      "Control roc auc score: 0.60359765482615\n",
      "Control log loss: 0.6446888665569589\n",
      "\n",
      "Uplift score: 0.057867296780712785\n",
      "\n",
      "\n",
      "Fold 2\n",
      "Control accuracy score: 0.6433280219951886\n",
      "Control roc auc score: 0.6019300806237087\n",
      "Control log loss: 0.6455082335943291\n",
      "\n",
      "Control accuracy score: 0.6432030493329585\n",
      "Control roc auc score: 0.6039760522568278\n",
      "Control log loss: 0.6448807298111022\n",
      "\n",
      "Uplift score: 0.05502198312067108\n",
      "\n",
      "\n",
      "Fold 3\n",
      "Control accuracy score: 0.6457226769980629\n",
      "Control roc auc score: 0.6016395525651266\n",
      "Control log loss: 0.6452926230634152\n",
      "\n",
      "Control accuracy score: 0.6445353996125727\n",
      "Control roc auc score: 0.6058056036273831\n",
      "Control log loss: 0.6443033059152828\n",
      "\n",
      "Uplift score: 0.04926045370528298\n",
      "\n",
      "\n",
      "Fold 4\n",
      "Control accuracy score: 0.6452540148722115\n",
      "Control roc auc score: 0.601153614494367\n",
      "Control log loss: 0.6452078519310235\n",
      "\n",
      "Control accuracy score: 0.6445041554708492\n",
      "Control roc auc score: 0.6037613702880247\n",
      "Control log loss: 0.644859478142994\n",
      "\n",
      "Uplift score: 0.05063898442917536\n",
      "\n",
      "\n",
      "Fold 5\n",
      "Control accuracy score: 0.6433057334791439\n",
      "Control roc auc score: 0.5988256811628121\n",
      "Control log loss: 0.6462950328470599\n",
      "\n",
      "Control accuracy score: 0.6429932822996407\n",
      "Control roc auc score: 0.5986410074475778\n",
      "Control log loss: 0.646660961531751\n",
      "\n",
      "Uplift score: 0.03557239068418594\n",
      "\n",
      "\n",
      "Control average accuracy: 0.6446688386175451\n",
      "Control average rocauc: 0.6013897580669095\n",
      "Control average loglos: 0.6454005515002673\n",
      "\n",
      "Treatment average accuracy: 0.6440377106640403\n",
      "Treatment average rocauc: 0.6031563376891926\n",
      "Treatment average loglos: 0.6450786683916178\n",
      "\n",
      "Average uplift score: 0.04967222174400563\n",
      "\n",
      "\n",
      "SEED 542\n",
      "\n",
      "Fold 1\n",
      "Control accuracy score: 0.6450776392664105\n",
      "Control roc auc score: 0.6003196830806202\n",
      "Control log loss: 0.6453318354987151\n",
      "\n",
      "Control accuracy score: 0.6455462867497734\n",
      "Control roc auc score: 0.6029832496269525\n",
      "Control log loss: 0.6446346282017623\n",
      "\n",
      "Uplift score: 0.061759050529556436\n",
      "\n",
      "\n",
      "Fold 2\n",
      "Control accuracy score: 0.6437966694785515\n",
      "Control roc auc score: 0.6016905351723716\n",
      "Control log loss: 0.6455054497925613\n",
      "\n",
      "Control accuracy score: 0.6446714781141625\n",
      "Control roc auc score: 0.5991433310503266\n",
      "Control log loss: 0.6459792907212047\n",
      "\n",
      "Uplift score: 0.03342963055542536\n",
      "\n",
      "\n",
      "Fold 3\n",
      "Control accuracy score: 0.6433793663688059\n",
      "Control roc auc score: 0.5977634569798405\n",
      "Control log loss: 0.6463944002371862\n",
      "\n",
      "Control accuracy score: 0.6423483096919328\n",
      "Control roc auc score: 0.6015326544749485\n",
      "Control log loss: 0.6461193079740742\n",
      "\n",
      "Uplift score: 0.04077928762029914\n",
      "\n",
      "\n",
      "Fold 4\n",
      "Control accuracy score: 0.6456601887146161\n",
      "Control roc auc score: 0.6042429999564519\n",
      "Control log loss: 0.6442596731853062\n",
      "\n",
      "Control accuracy score: 0.6456914328563395\n",
      "Control roc auc score: 0.6051512111681212\n",
      "Control log loss: 0.6441781717176058\n",
      "\n",
      "Uplift score: 0.05395186578599487\n",
      "\n",
      "\n",
      "Fold 5\n",
      "Control accuracy score: 0.6441181065458522\n",
      "Control roc auc score: 0.6044203486723598\n",
      "Control log loss: 0.6452508390839072\n",
      "\n",
      "Control accuracy score: 0.6440243711920013\n",
      "Control roc auc score: 0.6058779160431019\n",
      "Control log loss: 0.6445576697387764\n",
      "\n",
      "Uplift score: 0.05171149356454119\n",
      "\n",
      "\n",
      "Control average accuracy: 0.6444063940748472\n",
      "Control average rocauc: 0.6016874047723288\n",
      "Control average loglos: 0.6453484395595351\n",
      "\n",
      "Treatment average accuracy: 0.6444563757208419\n",
      "Treatment average rocauc: 0.60293767247269\n",
      "Treatment average loglos: 0.6450938136706847\n",
      "\n",
      "Average uplift score: 0.0483262656111634\n",
      "\n",
      "\n",
      "Average for uplift score all kfolds: 0.04856602992351957\n"
     ]
    }
   ],
   "source": [
    "X_train_baseline_cols = X_train[baseline_cols]\n",
    "\n",
    "seeds = [int(i + \"42\") for i in [\"\", \"1\", \"2\", \"3\", \"4\", \"5\"]]\n",
    "kfolds_uplifts = []\n",
    "for seed in seeds:\n",
    "    print(f\"SEED {seed}\")\n",
    "    control_acc = []\n",
    "    control_auc = []\n",
    "    control_loglos = []\n",
    "\n",
    "    treatment_acc = []\n",
    "    treatment_auc = []\n",
    "    treatment_loglos = []\n",
    "\n",
    "    uplifts = []\n",
    "    \n",
    "    skfold = StratifiedKFold(n_splits=5, shuffle=True, random_state=int(seed))\n",
    "    for i, (train_idx, test_idx) in enumerate(skfold.split(X_train_baseline_cols, y_train)):\n",
    "        print(f\"\\nFold {i + 1}\")\n",
    "\n",
    "        X_train_, y_train_ = X_train_baseline_cols.iloc[train_idx], y_train.iloc[train_idx]\n",
    "        X_test_, y_test_ = X_train_baseline_cols.iloc[test_idx], y_train.iloc[test_idx]\n",
    "        train_is_treatment_, test_is_treatment_ = train_is_treatment.iloc[train_idx], train_is_treatment.iloc[test_idx]\n",
    "\n",
    "        X_train_control_, X_train_treatment_, y_train_control_, y_train_treatment_ = split_control_treatment(\n",
    "            X_train_, y_train_, train_is_treatment_\n",
    "        )\n",
    "\n",
    "        xgb_control = xgb.XGBClassifier().fit(X_train_control_, y_train_control_)\n",
    "        control_preds = xgb_control.predict(X_test_)\n",
    "        control_proba = xgb_control.predict_proba(X_test_)[:, 1]\n",
    "        acc = accuracy_score(y_test_, control_preds)\n",
    "        auc = roc_auc_score(y_test_, control_proba)\n",
    "        logloss = log_loss(y_test_, control_proba)\n",
    "        control_acc.append(acc)\n",
    "        control_auc.append(auc)\n",
    "        control_loglos.append(logloss)\n",
    "        print(f\"Control accuracy score: {acc}\")\n",
    "        print(f\"Control roc auc score: {auc}\")\n",
    "        print(f\"Control log loss: {logloss}\\n\")\n",
    "\n",
    "        xgb_treatment = xgb.XGBClassifier().fit(X_train_treatment_, y_train_treatment_)\n",
    "        treatment_preds = xgb_treatment.predict(X_test_)\n",
    "        treatment_proba = xgb_treatment.predict_proba(X_test_)[:, 1]\n",
    "        acc = accuracy_score(y_test_, treatment_preds)\n",
    "        auc = roc_auc_score(y_test_, treatment_proba)\n",
    "        logloss = log_loss(y_test_, treatment_proba)\n",
    "        treatment_acc.append(acc)\n",
    "        treatment_auc.append(auc)\n",
    "        treatment_loglos.append(logloss)\n",
    "        print(f\"Control accuracy score: {acc}\")\n",
    "        print(f\"Control roc auc score: {auc}\")\n",
    "        print(f\"Control log loss: {logloss}\\n\")\n",
    "\n",
    "        uplift = treatment_proba - control_proba\n",
    "        up_score = uplift_score(uplift, test_is_treatment_, y_test_)\n",
    "        uplifts.append(up_score)\n",
    "        print(f\"Uplift score: {up_score}\\n\")\n",
    "\n",
    "    print(f\"\\nControl average accuracy: {np.mean(control_acc)}\")\n",
    "    print(f\"Control average rocauc: {np.mean(control_auc)}\")\n",
    "    print(f\"Control average loglos: {np.mean(control_loglos)}\\n\")\n",
    "\n",
    "    print(f\"Treatment average accuracy: {np.mean(treatment_acc)}\")\n",
    "    print(f\"Treatment average rocauc: {np.mean(treatment_auc)}\")\n",
    "    print(f\"Treatment average loglos: {np.mean(treatment_loglos)}\\n\")\n",
    "\n",
    "    print(f\"Average uplift score: {np.mean(uplifts)}\\n\\n\")\n",
    "    kfolds_uplifts.append(np.mean(uplifts))\n",
    "    \n",
    "print(f\"Average for uplift score all kfolds: {np.mean(kfolds_uplifts)}\")\n"
   ]
  },
  {
   "cell_type": "markdown",
   "metadata": {},
   "source": [
    "## Fit on whole set, generate submission"
   ]
  },
  {
   "cell_type": "code",
   "execution_count": 18,
   "metadata": {},
   "outputs": [],
   "source": [
    "X_train_control_baseline_cols, X_train_treatment_baseline_cols, y_train_control, y_train_treatment = split_control_treatment(\n",
    "    X_train_baseline_cols, y_train, train_is_treatment\n",
    ")\n",
    "X_valid_control_baseline_cols, X_valid_treatment_baseline_cols, y_valid_control, y_valid_treatment = split_control_treatment(\n",
    "    X_valid_baseline_cols, y_valid, valid_is_treatment\n",
    ")"
   ]
  },
  {
   "cell_type": "code",
   "execution_count": 19,
   "metadata": {},
   "outputs": [],
   "source": [
    "X_control_baseline_cols, y_control = join_train_validation(\n",
    "    X_train_control_baseline_cols, X_valid_control_baseline_cols, y_train_control, y_valid_control\n",
    ")\n",
    "X_treatment_baseline_cols, y_treatment = join_train_validation(\n",
    "    X_train_treatment_baseline_cols, X_valid_treatment_baseline_cols, y_train_treatment, y_valid_treatment\n",
    ")\n",
    "X_test_baseline_cols = X_test[baseline_cols]\n",
    "\n",
    "clf_control = xgb.XGBClassifier().fit(X_control_baseline_cols, y_control)\n",
    "clf_treatment = xgb.XGBClassifier().fit(X_treatment_baseline_cols, y_treatment)\n",
    "\n",
    "predict_test_control = clf_control.predict_proba(X_test_baseline_cols)[:, 1]\n",
    "predict_test_treatment = clf_treatment.predict_proba(X_test_baseline_cols)[:, 1]\n",
    "predict_test_uplift = predict_test_treatment - predict_test_control\n",
    "df_submission = pd.DataFrame({'uplift': predict_test_uplift}, index=X_test.index)\n",
    "df_submission.to_csv('basline_cols_xgb_no_tuning.csv')"
   ]
  },
  {
   "cell_type": "code",
   "execution_count": null,
   "metadata": {},
   "outputs": [],
   "source": []
  },
  {
   "cell_type": "markdown",
   "metadata": {},
   "source": [
    "# All features"
   ]
  },
  {
   "cell_type": "code",
   "execution_count": 21,
   "metadata": {},
   "outputs": [],
   "source": [
    "X_train, y_train, train_is_treatment, X_valid, y_valid, valid_is_treatment, X_test = read_train_test()"
   ]
  },
  {
   "cell_type": "code",
   "execution_count": 22,
   "metadata": {},
   "outputs": [],
   "source": [
    "X_train_control, X_train_treatment, y_train_control, y_train_treatment = split_control_treatment(\n",
    "    X_train, y_train, train_is_treatment\n",
    ")\n",
    "X_valid_control, X_valid_treatment, y_valid_control, y_valid_treatment = split_control_treatment(\n",
    "    X_valid, y_valid, valid_is_treatment\n",
    ")"
   ]
  },
  {
   "cell_type": "markdown",
   "metadata": {},
   "source": [
    "## Hold-out set"
   ]
  },
  {
   "cell_type": "code",
   "execution_count": 23,
   "metadata": {},
   "outputs": [
    {
     "name": "stdout",
     "output_type": "stream",
     "text": [
      "Control accuracy score: 0.7156068786242752\n",
      "Control roc auc score: 0.7741321502293599\n",
      "Control log loss: 0.5481313662264564\n",
      "\n",
      "Treatment accuracy score: 0.7146320735852829\n",
      "Treatment roc auc score: 0.7746902210186017\n",
      "Treatment log loss: 0.5472975145549888\n",
      "\n",
      "Uplift score: 0.05746852762817389\n",
      "\n"
     ]
    }
   ],
   "source": [
    "xgb_control = xgb.XGBClassifier().fit(X_train_control, y_train_control)\n",
    "control_preds = xgb_control.predict(X_valid)\n",
    "control_proba = xgb_control.predict_proba(X_valid)[:, 1]\n",
    "\n",
    "acc = accuracy_score(y_valid, control_preds)\n",
    "auc = roc_auc_score(y_valid, control_proba)\n",
    "logloss = log_loss(y_valid, control_proba)\n",
    "print(f\"Control accuracy score: {acc}\")\n",
    "print(f\"Control roc auc score: {auc}\")\n",
    "print(f\"Control log loss: {logloss}\\n\")\n",
    "\n",
    "xgb_treatment = xgb.XGBClassifier().fit(X_train_treatment, y_train_treatment)\n",
    "treatment_preds = xgb_treatment.predict(X_valid)\n",
    "treatment_proba = xgb_treatment.predict_proba(X_valid)[:, 1]\n",
    "acc = accuracy_score(y_valid, treatment_preds)\n",
    "auc = roc_auc_score(y_valid, treatment_proba)\n",
    "logloss = log_loss(y_valid, treatment_proba)\n",
    "print(f\"Treatment accuracy score: {acc}\")\n",
    "print(f\"Treatment roc auc score: {auc}\")\n",
    "print(f\"Treatment log loss: {logloss}\\n\")\n",
    "\n",
    "uplift = treatment_proba - control_proba\n",
    "up_score = uplift_score(uplift, valid_is_treatment, y_valid)\n",
    "uplifts.append(up_score)\n",
    "print(f\"Uplift score: {up_score}\\n\")"
   ]
  },
  {
   "cell_type": "markdown",
   "metadata": {},
   "source": [
    "## 1 K-fold (K=5)"
   ]
  },
  {
   "cell_type": "code",
   "execution_count": 25,
   "metadata": {},
   "outputs": [
    {
     "name": "stdout",
     "output_type": "stream",
     "text": [
      "\n",
      "Fold 1\n",
      "Control accuracy score: 0.7114381229106133\n",
      "Control roc auc score: 0.7673465885917468\n",
      "Control log loss: 0.5537475528253172\n",
      "\n",
      "Control accuracy score: 0.7137188739963133\n",
      "Control roc auc score: 0.7688245653645973\n",
      "Control log loss: 0.5524289729941039\n",
      "\n",
      "Uplift score: 0.058050191619362757\n",
      "\n",
      "\n",
      "Fold 2\n",
      "Control accuracy score: 0.7130627675196051\n",
      "Control roc auc score: 0.7696804319147839\n",
      "Control log loss: 0.5521839235294425\n",
      "\n",
      "Control accuracy score: 0.7140313056518887\n",
      "Control roc auc score: 0.7705581832171067\n",
      "Control log loss: 0.551071622950634\n",
      "\n",
      "Uplift score: 0.06582438895928122\n",
      "\n",
      "\n",
      "Fold 3\n",
      "Control accuracy score: 0.712053989876898\n",
      "Control roc auc score: 0.7701017811167233\n",
      "Control log loss: 0.5519786537779408\n",
      "\n",
      "Control accuracy score: 0.7111479097669187\n",
      "Control roc auc score: 0.7704456516919196\n",
      "Control log loss: 0.5510462282718649\n",
      "\n",
      "Uplift score: 0.07520690825722831\n",
      "\n",
      "\n",
      "Fold 4\n",
      "Control accuracy score: 0.7155220896081984\n",
      "Control roc auc score: 0.7745385282689854\n",
      "Control log loss: 0.5474970890734595\n",
      "\n",
      "Control accuracy score: 0.7121477223020684\n",
      "Control roc auc score: 0.7743739783700969\n",
      "Control log loss: 0.5477945545401595\n",
      "\n",
      "Uplift score: 0.05024471470058789\n",
      "\n",
      "\n",
      "Fold 5\n",
      "Control accuracy score: 0.7124511795032026\n",
      "Control roc auc score: 0.7719361462513906\n",
      "Control log loss: 0.5497426330661461\n",
      "\n",
      "Control accuracy score: 0.7153257303546321\n",
      "Control roc auc score: 0.7731346517128181\n",
      "Control log loss: 0.5487572426708243\n",
      "\n",
      "Uplift score: 0.05013176628440774\n",
      "\n",
      "\n",
      "Control average accuracy: 0.7129056298837034\n",
      "Control average rocauc: 0.770720695228726\n",
      "Control average loglos: 0.5510299704544612\n",
      "\n",
      "Treatment average accuracy: 0.7132743084143642\n",
      "Treatment average rocauc: 0.7714674060713077\n",
      "Treatment average loglos: 0.5502197242855174\n",
      "\n",
      "Average uplift score: 0.05989159396417358\n",
      "\n",
      "\n"
     ]
    }
   ],
   "source": [
    "control_acc = []\n",
    "control_auc = []\n",
    "control_loglos = []\n",
    "\n",
    "treatment_acc = []\n",
    "treatment_auc = []\n",
    "treatment_loglos = []\n",
    "\n",
    "uplifts = []\n",
    "\n",
    "skfold = StratifiedKFold(n_splits=5, shuffle=True, random_state=142)\n",
    "for i, (train_idx, test_idx) in enumerate(skfold.split(X_train, y_train)):\n",
    "    print(f\"\\nFold {i + 1}\")\n",
    "\n",
    "    X_train_, y_train_ = X_train.iloc[train_idx], y_train.iloc[train_idx]\n",
    "    X_test_, y_test_ = X_train.iloc[test_idx], y_train.iloc[test_idx]\n",
    "    train_is_treatment_, test_is_treatment_ = train_is_treatment.iloc[train_idx], train_is_treatment.iloc[test_idx]\n",
    "\n",
    "    X_train_control_, X_train_treatment_, y_train_control_, y_train_treatment_ = split_control_treatment(\n",
    "        X_train_, y_train_, train_is_treatment_\n",
    "    )\n",
    "\n",
    "    xgb_control = xgb.XGBClassifier().fit(X_train_control_, y_train_control_)\n",
    "    control_preds = xgb_control.predict(X_test_)\n",
    "    control_proba = xgb_control.predict_proba(X_test_)[:, 1]\n",
    "    acc = accuracy_score(y_test_, control_preds)\n",
    "    auc = roc_auc_score(y_test_, control_proba)\n",
    "    logloss = log_loss(y_test_, control_proba)\n",
    "    control_acc.append(acc)\n",
    "    control_auc.append(auc)\n",
    "    control_loglos.append(logloss)\n",
    "    print(f\"Control accuracy score: {acc}\")\n",
    "    print(f\"Control roc auc score: {auc}\")\n",
    "    print(f\"Control log loss: {logloss}\\n\")\n",
    "\n",
    "    xgb_treatment = xgb.XGBClassifier().fit(X_train_treatment_, y_train_treatment_)\n",
    "    treatment_preds = xgb_treatment.predict(X_test_)\n",
    "    treatment_proba = xgb_treatment.predict_proba(X_test_)[:, 1]\n",
    "    acc = accuracy_score(y_test_, treatment_preds)\n",
    "    auc = roc_auc_score(y_test_, treatment_proba)\n",
    "    logloss = log_loss(y_test_, treatment_proba)\n",
    "    treatment_acc.append(acc)\n",
    "    treatment_auc.append(auc)\n",
    "    treatment_loglos.append(logloss)\n",
    "    print(f\"Control accuracy score: {acc}\")\n",
    "    print(f\"Control roc auc score: {auc}\")\n",
    "    print(f\"Control log loss: {logloss}\\n\")\n",
    "\n",
    "    uplift = treatment_proba - control_proba\n",
    "    up_score = uplift_score(uplift, test_is_treatment_, y_test_)\n",
    "    uplifts.append(up_score)\n",
    "    print(f\"Uplift score: {up_score}\\n\")\n",
    "\n",
    "print(f\"\\nControl average accuracy: {np.mean(control_acc)}\")\n",
    "print(f\"Control average rocauc: {np.mean(control_auc)}\")\n",
    "print(f\"Control average loglos: {np.mean(control_loglos)}\\n\")\n",
    "\n",
    "print(f\"Treatment average accuracy: {np.mean(treatment_acc)}\")\n",
    "print(f\"Treatment average rocauc: {np.mean(treatment_auc)}\")\n",
    "print(f\"Treatment average loglos: {np.mean(treatment_loglos)}\\n\")\n",
    "\n",
    "print(f\"Average uplift score: {np.mean(uplifts)}\\n\\n\")"
   ]
  },
  {
   "cell_type": "markdown",
   "metadata": {},
   "source": [
    "## 6 K-folds with different seeds"
   ]
  },
  {
   "cell_type": "code",
   "execution_count": 8,
   "metadata": {},
   "outputs": [
    {
     "name": "stdout",
     "output_type": "stream",
     "text": [
      "SEED 42\n",
      "\n",
      "Fold 1\n",
      "Control accuracy score: 0.7118442840628613\n",
      "Control roc auc score: 0.7712134747505055\n",
      "Control log loss: 0.5505524108073874\n",
      "\n",
      "Control accuracy score: 0.7112506639172681\n",
      "Control roc auc score: 0.7707821529220812\n",
      "Control log loss: 0.5506969216692374\n",
      "\n",
      "Uplift score: 0.06310895065907096\n",
      "\n",
      "\n",
      "Fold 2\n",
      "Control accuracy score: 0.7109382322616927\n",
      "Control roc auc score: 0.7684337052655865\n",
      "Control log loss: 0.5530596066437508\n",
      "\n",
      "Control accuracy score: 0.7123129315462242\n",
      "Control roc auc score: 0.7694246727742813\n",
      "Control log loss: 0.5517340281536958\n",
      "\n",
      "Uplift score: 0.06788882061536428\n",
      "\n",
      "\n",
      "Fold 3\n",
      "Control accuracy score: 0.715709554458539\n",
      "Control roc auc score: 0.775458500590483\n",
      "Control log loss: 0.5464467912894794\n",
      "\n",
      "Control accuracy score: 0.716803099418859\n",
      "Control roc auc score: 0.7768160512379068\n",
      "Control log loss: 0.5454247755656186\n",
      "\n",
      "Uplift score: 0.04645105037158337\n",
      "\n",
      "\n",
      "Fold 4\n",
      "Control accuracy score: 0.7138973942385802\n",
      "Control roc auc score: 0.7698967405212994\n",
      "Control log loss: 0.5516541750630453\n",
      "\n",
      "Control accuracy score: 0.7129913141286008\n",
      "Control roc auc score: 0.7699677276637675\n",
      "Control log loss: 0.5512789802730297\n",
      "\n",
      "Uplift score: 0.06746098914758392\n",
      "\n",
      "\n",
      "Fold 5\n",
      "Control accuracy score: 0.7129198562724575\n",
      "Control roc auc score: 0.7690279158777948\n",
      "Control log loss: 0.5530923953926148\n",
      "\n",
      "Control accuracy score: 0.7135135135135136\n",
      "Control roc auc score: 0.7704455091749873\n",
      "Control log loss: 0.5517850252607198\n",
      "\n",
      "Uplift score: 0.03820443876495816\n",
      "\n",
      "\n",
      "Control average accuracy: 0.7130618642588262\n",
      "Control average rocauc: 0.7708060674011339\n",
      "Control average loglos: 0.5509610758392556\n",
      "\n",
      "Treatment average accuracy: 0.713374304504893\n",
      "Treatment average rocauc: 0.7714872227546048\n",
      "Treatment average loglos: 0.5501839461844603\n",
      "\n",
      "Average uplift score: 0.05662284991171214\n",
      "\n",
      "\n",
      "SEED 142\n",
      "\n",
      "Fold 1\n",
      "Control accuracy score: 0.7114381229106133\n",
      "Control roc auc score: 0.7673465885917468\n",
      "Control log loss: 0.5537475528253172\n",
      "\n",
      "Control accuracy score: 0.7137188739963133\n",
      "Control roc auc score: 0.7688245653645973\n",
      "Control log loss: 0.5524289729941039\n",
      "\n",
      "Uplift score: 0.058050191619362757\n",
      "\n",
      "\n",
      "Fold 2\n",
      "Control accuracy score: 0.7130627675196051\n",
      "Control roc auc score: 0.7696804319147839\n",
      "Control log loss: 0.5521839235294425\n",
      "\n",
      "Control accuracy score: 0.7140313056518887\n",
      "Control roc auc score: 0.7705581832171067\n",
      "Control log loss: 0.551071622950634\n",
      "\n",
      "Uplift score: 0.06582438895928122\n",
      "\n",
      "\n",
      "Fold 3\n",
      "Control accuracy score: 0.712053989876898\n",
      "Control roc auc score: 0.7701017811167233\n",
      "Control log loss: 0.5519786537779408\n",
      "\n",
      "Control accuracy score: 0.7111479097669187\n",
      "Control roc auc score: 0.7704456516919196\n",
      "Control log loss: 0.5510462282718649\n",
      "\n",
      "Uplift score: 0.07520690825722831\n",
      "\n",
      "\n",
      "Fold 4\n",
      "Control accuracy score: 0.7155220896081984\n",
      "Control roc auc score: 0.7745385282689854\n",
      "Control log loss: 0.5474970890734595\n",
      "\n",
      "Control accuracy score: 0.7121477223020684\n",
      "Control roc auc score: 0.7743739783700969\n",
      "Control log loss: 0.5477945545401595\n",
      "\n",
      "Uplift score: 0.05024471470058789\n",
      "\n",
      "\n",
      "Fold 5\n",
      "Control accuracy score: 0.7124511795032026\n",
      "Control roc auc score: 0.7719361462513906\n",
      "Control log loss: 0.5497426330661461\n",
      "\n",
      "Control accuracy score: 0.7153257303546321\n",
      "Control roc auc score: 0.7731346517128181\n",
      "Control log loss: 0.5487572426708243\n",
      "\n",
      "Uplift score: 0.05013176628440774\n",
      "\n",
      "\n",
      "Control average accuracy: 0.7129056298837034\n",
      "Control average rocauc: 0.770720695228726\n",
      "Control average loglos: 0.5510299704544612\n",
      "\n",
      "Treatment average accuracy: 0.7132743084143642\n",
      "Treatment average rocauc: 0.7714674060713077\n",
      "Treatment average loglos: 0.5502197242855174\n",
      "\n",
      "Average uplift score: 0.05989159396417358\n",
      "\n",
      "\n",
      "SEED 242\n",
      "\n",
      "Fold 1\n",
      "Control accuracy score: 0.7119380135595339\n",
      "Control roc auc score: 0.7680650053940136\n",
      "Control log loss: 0.5534218184091971\n",
      "\n",
      "Control accuracy score: 0.7117505545661886\n",
      "Control roc auc score: 0.7696587874268201\n",
      "Control log loss: 0.5519891220117314\n",
      "\n",
      "Uplift score: 0.05575572319257627\n",
      "\n",
      "\n",
      "Fold 2\n",
      "Control accuracy score: 0.7125941200362421\n",
      "Control roc auc score: 0.7692890975011565\n",
      "Control log loss: 0.5521966862025627\n",
      "\n",
      "Control accuracy score: 0.7126878495329146\n",
      "Control roc auc score: 0.7693589004570288\n",
      "Control log loss: 0.5520331986064249\n",
      "\n",
      "Uplift score: 0.06504961597834202\n",
      "\n",
      "\n",
      "Fold 3\n",
      "Control accuracy score: 0.7142098356558145\n",
      "Control roc auc score: 0.7706664676681912\n",
      "Control log loss: 0.5513027871727346\n",
      "\n",
      "Control accuracy score: 0.7140848590889208\n",
      "Control roc auc score: 0.7711987749190534\n",
      "Control log loss: 0.5511583435875672\n",
      "\n",
      "Uplift score: 0.0631978952406056\n",
      "\n",
      "\n",
      "Fold 4\n",
      "Control accuracy score: 0.7129913141286008\n",
      "Control roc auc score: 0.7730716995533645\n",
      "Control log loss: 0.5491165747508241\n",
      "\n",
      "Control accuracy score: 0.7142098356558145\n",
      "Control roc auc score: 0.7739668819906728\n",
      "Control log loss: 0.5477249675602561\n",
      "\n",
      "Uplift score: 0.04823092411303198\n",
      "\n",
      "\n",
      "Fold 5\n",
      "Control accuracy score: 0.7145133572879238\n",
      "Control roc auc score: 0.7734043260063785\n",
      "Control log loss: 0.5485488209436367\n",
      "\n",
      "Control accuracy score: 0.7145133572879238\n",
      "Control roc auc score: 0.773592881745442\n",
      "Control log loss: 0.5479281719154193\n",
      "\n",
      "Uplift score: 0.05717280622941001\n",
      "\n",
      "\n",
      "Control average accuracy: 0.7132493281336231\n",
      "Control average rocauc: 0.7708993192246208\n",
      "Control average loglos: 0.5509173374957911\n",
      "\n",
      "Treatment average accuracy: 0.7134492912263526\n",
      "Treatment average rocauc: 0.7715552453078034\n",
      "Treatment average loglos: 0.5501667607362798\n",
      "\n",
      "Average uplift score: 0.05788139295079318\n",
      "\n",
      "\n",
      "SEED 342\n",
      "\n",
      "Fold 1\n",
      "Control accuracy score: 0.7095010466460462\n",
      "Control roc auc score: 0.7657703168461407\n",
      "Control log loss: 0.5552135980306131\n",
      "\n",
      "Control accuracy score: 0.7105008279438872\n",
      "Control roc auc score: 0.7666565043206623\n",
      "Control log loss: 0.5538950608519777\n",
      "\n",
      "Uplift score: 0.05814006872890409\n",
      "\n",
      "\n",
      "Fold 2\n",
      "Control accuracy score: 0.7144687099696941\n",
      "Control roc auc score: 0.7713549675645024\n",
      "Control log loss: 0.5506526315220187\n",
      "\n",
      "Control accuracy score: 0.7132814696785078\n",
      "Control roc auc score: 0.7708939006172602\n",
      "Control log loss: 0.551195390103011\n",
      "\n",
      "Uplift score: 0.06908659617589041\n",
      "\n",
      "\n",
      "Fold 3\n",
      "Control accuracy score: 0.7115540836093233\n",
      "Control roc auc score: 0.7705953790297067\n",
      "Control log loss: 0.5506378981070459\n",
      "\n",
      "Control accuracy score: 0.7117415484596639\n",
      "Control roc auc score: 0.7705786156162087\n",
      "Control log loss: 0.5508096057330718\n",
      "\n",
      "Uplift score: 0.06200173488839744\n",
      "\n",
      "\n",
      "Fold 4\n",
      "Control accuracy score: 0.7128975817034306\n",
      "Control roc auc score: 0.7718441197334173\n",
      "Control log loss: 0.5501827509533249\n",
      "\n",
      "Control accuracy score: 0.7133037555458351\n",
      "Control roc auc score: 0.7731639242194451\n",
      "Control log loss: 0.5487659516733433\n",
      "\n",
      "Uplift score: 0.04866990237587088\n",
      "\n",
      "\n",
      "Fold 5\n",
      "Control accuracy score: 0.7143571316981722\n",
      "Control roc auc score: 0.7733233275998976\n",
      "Control log loss: 0.5492350717297342\n",
      "\n",
      "Control accuracy score: 0.7142633963443212\n",
      "Control roc auc score: 0.7736577243867983\n",
      "Control log loss: 0.5485017688764812\n",
      "\n",
      "Uplift score: 0.0435568603803872\n",
      "\n",
      "\n",
      "Control average accuracy: 0.7125557107253333\n",
      "Control average rocauc: 0.7705776221547328\n",
      "Control average loglos: 0.5511843900685474\n",
      "\n",
      "Treatment average accuracy: 0.712618199594443\n",
      "Treatment average rocauc: 0.7709901338320748\n",
      "Treatment average loglos: 0.550633555447577\n",
      "\n",
      "Average uplift score: 0.05629103250989\n",
      "\n",
      "\n",
      "SEED 442\n",
      "\n",
      "Fold 1\n",
      "Control accuracy score: 0.7122504452151092\n",
      "Control roc auc score: 0.7702545183003255\n",
      "Control log loss: 0.5515911117361124\n",
      "\n",
      "Control accuracy score: 0.7129690380229324\n",
      "Control roc auc score: 0.7692857234465256\n",
      "Control log loss: 0.5518444129811859\n",
      "\n",
      "Uplift score: 0.06732864109440712\n",
      "\n",
      "\n",
      "Fold 2\n",
      "Control accuracy score: 0.7150623301152873\n",
      "Control roc auc score: 0.7700014269206362\n",
      "Control log loss: 0.5518431758138723\n",
      "\n",
      "Control accuracy score: 0.7150310869497297\n",
      "Control roc auc score: 0.7710293039772271\n",
      "Control log loss: 0.5507743834895087\n",
      "\n",
      "Uplift score: 0.05930165729591552\n",
      "\n",
      "\n",
      "Fold 3\n",
      "Control accuracy score: 0.712928825845154\n",
      "Control roc auc score: 0.7698704468389882\n",
      "Control log loss: 0.5518110887698202\n",
      "\n",
      "Control accuracy score: 0.7132100231206648\n",
      "Control roc auc score: 0.7717180533955545\n",
      "Control log loss: 0.5499486587599449\n",
      "\n",
      "Uplift score: 0.06555833455936444\n",
      "\n",
      "\n",
      "Fold 4\n",
      "Control accuracy score: 0.7092732612635131\n",
      "Control roc auc score: 0.770067088121211\n",
      "Control log loss: 0.5514589255905085\n",
      "\n",
      "Control accuracy score: 0.7117727926013873\n",
      "Control roc auc score: 0.7705596296470841\n",
      "Control log loss: 0.5510497782617414\n",
      "\n",
      "Uplift score: 0.05349963852357931\n",
      "\n",
      "\n",
      "Fold 5\n",
      "Control accuracy score: 0.7170129667239494\n",
      "Control roc auc score: 0.7746494343974142\n",
      "Control log loss: 0.5474595248014773\n",
      "\n",
      "Control accuracy score: 0.7160131229495391\n",
      "Control roc auc score: 0.7746402617178434\n",
      "Control log loss: 0.5476087064517918\n",
      "\n",
      "Uplift score: 0.05099405948432367\n",
      "\n",
      "\n",
      "Control average accuracy: 0.7133055658326026\n",
      "Control average rocauc: 0.770968582915715\n",
      "Control average loglos: 0.5508327653423581\n",
      "\n",
      "Treatment average accuracy: 0.7137992127288506\n",
      "Treatment average rocauc: 0.771446594436847\n",
      "Treatment average loglos: 0.5502451879888346\n",
      "\n",
      "Average uplift score: 0.059336466191518014\n",
      "\n",
      "\n",
      "SEED 542\n",
      "\n",
      "Fold 1\n",
      "Control accuracy score: 0.7130627675196051\n",
      "Control roc auc score: 0.7709946272291419\n",
      "Control log loss: 0.5507258201976388\n",
      "\n",
      "Control accuracy score: 0.7140937919830037\n",
      "Control roc auc score: 0.7707750009204604\n",
      "Control log loss: 0.5507216690761185\n",
      "\n",
      "Uplift score: 0.06478350053884074\n",
      "\n",
      "\n",
      "Fold 2\n",
      "Control accuracy score: 0.7109694754272503\n",
      "Control roc auc score: 0.7716659004725053\n",
      "Control log loss: 0.5500596793364443\n",
      "\n",
      "Control accuracy score: 0.710250882619427\n",
      "Control roc auc score: 0.7719703711027619\n",
      "Control log loss: 0.5494596172362397\n",
      "\n",
      "Uplift score: 0.06057594331352706\n",
      "\n",
      "\n",
      "Fold 3\n",
      "Control accuracy score: 0.7127413609948134\n",
      "Control roc auc score: 0.7711828276163817\n",
      "Control log loss: 0.550749188942945\n",
      "\n",
      "Control accuracy score: 0.7157407986002624\n",
      "Control roc auc score: 0.7724647430180518\n",
      "Control log loss: 0.5494368978634212\n",
      "\n",
      "Uplift score: 0.04764539931026435\n",
      "\n",
      "\n",
      "Fold 4\n",
      "Control accuracy score: 0.7140536149471974\n",
      "Control roc auc score: 0.7719015664787474\n",
      "Control log loss: 0.5503620235719048\n",
      "\n",
      "Control accuracy score: 0.7141161032306442\n",
      "Control roc auc score: 0.7726043518243997\n",
      "Control log loss: 0.549543409044087\n",
      "\n",
      "Uplift score: 0.06057230994251783\n",
      "\n",
      "\n",
      "Fold 5\n",
      "Control accuracy score: 0.7110763943133885\n",
      "Control roc auc score: 0.7679450218090607\n",
      "Control log loss: 0.5532963003105386\n",
      "\n",
      "Control accuracy score: 0.7123574441493516\n",
      "Control roc auc score: 0.7690829022387993\n",
      "Control log loss: 0.5522309696704261\n",
      "\n",
      "Uplift score: 0.05942740472656893\n",
      "\n",
      "\n",
      "Control average accuracy: 0.7123807226404509\n",
      "Control average rocauc: 0.7707379887211673\n",
      "Control average loglos: 0.5510386024718943\n",
      "\n",
      "Treatment average accuracy: 0.7133118041165378\n",
      "Treatment average rocauc: 0.7713794738208946\n",
      "Treatment average loglos: 0.5502785125780585\n",
      "\n",
      "Average uplift score: 0.05860091156634378\n",
      "\n",
      "\n",
      "Average for uplift score all kfolds: 0.058104041182405114\n"
     ]
    }
   ],
   "source": [
    "seeds = [int(i + \"42\") for i in [\"\", \"1\", \"2\", \"3\", \"4\", \"5\"]]\n",
    "kfolds_uplifts = []\n",
    "for seed in seeds:\n",
    "    print(f\"SEED {seed}\")\n",
    "    control_acc = []\n",
    "    control_auc = []\n",
    "    control_loglos = []\n",
    "\n",
    "    treatment_acc = []\n",
    "    treatment_auc = []\n",
    "    treatment_loglos = []\n",
    "\n",
    "    uplifts = []\n",
    "    \n",
    "    skfold = StratifiedKFold(n_splits=5, shuffle=True, random_state=int(seed))\n",
    "    for i, (train_idx, test_idx) in enumerate(skfold.split(X_train, y_train)):\n",
    "        print(f\"\\nFold {i + 1}\")\n",
    "\n",
    "        X_train_, y_train_ = X_train.iloc[train_idx], y_train.iloc[train_idx]\n",
    "        X_test_, y_test_ = X_train.iloc[test_idx], y_train.iloc[test_idx]\n",
    "        train_is_treatment_, test_is_treatment_ = train_is_treatment.iloc[train_idx], train_is_treatment.iloc[test_idx]\n",
    "\n",
    "        X_train_control_, X_train_treatment_, y_train_control_, y_train_treatment_ = split_control_treatment(\n",
    "            X_train_, y_train_, train_is_treatment_\n",
    "        )\n",
    "\n",
    "        xgb_control = xgb.XGBClassifier().fit(X_train_control_, y_train_control_)\n",
    "        control_preds = xgb_control.predict(X_test_)\n",
    "        control_proba = xgb_control.predict_proba(X_test_)[:, 1]\n",
    "        acc = accuracy_score(y_test_, control_preds)\n",
    "        auc = roc_auc_score(y_test_, control_proba)\n",
    "        logloss = log_loss(y_test_, control_proba)\n",
    "        control_acc.append(acc)\n",
    "        control_auc.append(auc)\n",
    "        control_loglos.append(logloss)\n",
    "        print(f\"Control accuracy score: {acc}\")\n",
    "        print(f\"Control roc auc score: {auc}\")\n",
    "        print(f\"Control log loss: {logloss}\\n\")\n",
    "\n",
    "        xgb_treatment = xgb.XGBClassifier().fit(X_train_treatment_, y_train_treatment_)\n",
    "        treatment_preds = xgb_treatment.predict(X_test_)\n",
    "        treatment_proba = xgb_treatment.predict_proba(X_test_)[:, 1]\n",
    "        acc = accuracy_score(y_test_, treatment_preds)\n",
    "        auc = roc_auc_score(y_test_, treatment_proba)\n",
    "        logloss = log_loss(y_test_, treatment_proba)\n",
    "        treatment_acc.append(acc)\n",
    "        treatment_auc.append(auc)\n",
    "        treatment_loglos.append(logloss)\n",
    "        print(f\"Control accuracy score: {acc}\")\n",
    "        print(f\"Control roc auc score: {auc}\")\n",
    "        print(f\"Control log loss: {logloss}\\n\")\n",
    "\n",
    "        uplift = treatment_proba - control_proba\n",
    "        up_score = uplift_score(uplift, test_is_treatment_, y_test_)\n",
    "        uplifts.append(up_score)\n",
    "        print(f\"Uplift score: {up_score}\\n\")\n",
    "\n",
    "    print(f\"\\nControl average accuracy: {np.mean(control_acc)}\")\n",
    "    print(f\"Control average rocauc: {np.mean(control_auc)}\")\n",
    "    print(f\"Control average loglos: {np.mean(control_loglos)}\\n\")\n",
    "\n",
    "    print(f\"Treatment average accuracy: {np.mean(treatment_acc)}\")\n",
    "    print(f\"Treatment average rocauc: {np.mean(treatment_auc)}\")\n",
    "    print(f\"Treatment average loglos: {np.mean(treatment_loglos)}\\n\")\n",
    "\n",
    "    print(f\"Average uplift score: {np.mean(uplifts)}\\n\\n\")\n",
    "    kfolds_uplifts.append(np.mean(uplifts))\n",
    "    \n",
    "print(f\"Average for uplift score all kfolds: {np.mean(kfolds_uplifts)}\")\n"
   ]
  },
  {
   "cell_type": "markdown",
   "metadata": {},
   "source": [
    "## Fit on whole training set and generate submission"
   ]
  },
  {
   "cell_type": "code",
   "execution_count": 27,
   "metadata": {},
   "outputs": [],
   "source": [
    "X_train, y_train, train_is_treatment, X_valid, y_valid, valid_is_treatment, X_test = read_train_test()"
   ]
  },
  {
   "cell_type": "code",
   "execution_count": 28,
   "metadata": {},
   "outputs": [],
   "source": [
    "X_train_control, X_train_treatment, y_train_control, y_train_treatment = split_control_treatment(\n",
    "    X_train, y_train, train_is_treatment\n",
    ")\n",
    "X_valid_control, X_valid_treatment, y_valid_control, y_valid_treatment = split_control_treatment(\n",
    "    X_valid, y_valid, valid_is_treatment\n",
    ")"
   ]
  },
  {
   "cell_type": "code",
   "execution_count": 29,
   "metadata": {},
   "outputs": [],
   "source": [
    "X_control, y_control = join_train_validation(X_train_control, X_valid_control, y_train_control, y_valid_control)\n",
    "X_treatment, y_treatment = join_train_validation(\n",
    "    X_train_treatment, X_valid_treatment, y_train_treatment, y_valid_treatment\n",
    ")\n",
    "\n",
    "clf_control = xgb.XGBClassifier().fit(X_control, y_control)\n",
    "clf_treatment = xgb.XGBClassifier().fit(X_treatment, y_treatment)\n",
    "\n",
    "predict_test_control = clf_control.predict_proba(X_test)[:, 1]\n",
    "predict_test_treatment = clf_treatment.predict_proba(X_test)[:, 1]\n",
    "predict_test_uplift = predict_test_treatment - predict_test_control\n",
    "df_submission = pd.DataFrame({'uplift': predict_test_uplift}, index=X_test.index)\n",
    "df_submission.to_csv('all_features_xgb_no_tuning.csv')"
   ]
  },
  {
   "cell_type": "code",
   "execution_count": 31,
   "metadata": {},
   "outputs": [
    {
     "name": "stdout",
     "output_type": "stream",
     "text": [
      "holdout diff: 0.006247543780959042\n",
      "1 kfold diff: 0.012136818043580931\n",
      "6 kfolds diff: 0.009538011258885544\n",
      "real diff: -0.0019000000000000059\n"
     ]
    }
   ],
   "source": [
    "uplift_holdout_baseline_cols = 0.05122098384721485\n",
    "uplift_1_kfold_baseline_cols = 0.04775477592059265\n",
    "uplift_6_kfolds_baseline_cols = 0.04856602992351957\n",
    "\n",
    "uplift_holdout_all_features = 0.05746852762817389\n",
    "uplift_1_kfold_all_features = 0.05989159396417358\n",
    "uplift_6_kfolds_all_features = 0.058104041182405114\n",
    "\n",
    "holdout_diff = uplift_holdout_all_features - uplift_holdout_baseline_cols\n",
    "kfold_diff = uplift_1_kfold_all_features - uplift_1_kfold_baseline_cols\n",
    "kfolds_diff = uplift_6_kfolds_all_features - uplift_6_kfolds_baseline_cols\n",
    "\n",
    "baseline_score = 0.0585\n",
    "all_features_score = 0.0566\n",
    "real_diff = all_features_score - baseline_score\n",
    "\n",
    "print(f\"holdout diff: {holdout_diff}\")\n",
    "print(f\"1 kfold diff: {kfold_diff}\")\n",
    "print(f\"6 kfolds diff: {kfolds_diff}\")\n",
    "print(f\"real diff: {real_diff}\")"
   ]
  },
  {
   "cell_type": "markdown",
   "metadata": {},
   "source": [
    "..."
   ]
  },
  {
   "cell_type": "markdown",
   "metadata": {},
   "source": [
    "# Tuned XGBoost"
   ]
  },
  {
   "cell_type": "code",
   "execution_count": 10,
   "metadata": {},
   "outputs": [],
   "source": [
    "xgb_best_params = {\n",
    "    \"subsample\": 0.7, \n",
    "    \"reg_lambda\": 1.0, \n",
    "    \"reg_alpha\": 0, \n",
    "    \"n_estimators\": 1000, \n",
    "    \"min_child_weight\": 7, \n",
    "    \"max_depth\": 4, \n",
    "    \"learning_rate\": 0.01,\n",
    "    \"gamma\": 0.3, \n",
    "    \"colsample_bytree\": 0.5\n",
    "}"
   ]
  },
  {
   "cell_type": "markdown",
   "metadata": {},
   "source": [
    "## Hold-out set"
   ]
  },
  {
   "cell_type": "code",
   "execution_count": 34,
   "metadata": {},
   "outputs": [
    {
     "name": "stdout",
     "output_type": "stream",
     "text": [
      "Control accuracy score: 0.716006798640272\n",
      "Control roc auc score: 0.7746608757415683\n",
      "Control log loss: 0.5475571413952864\n",
      "\n",
      "Treatment accuracy score: 0.7155818836232753\n",
      "Treatment roc auc score: 0.775409262520435\n",
      "Treatment log loss: 0.5464728559200964\n",
      "\n",
      "Uplift score: 0.08186243440548335\n",
      "\n"
     ]
    }
   ],
   "source": [
    "xgb_control = xgb.XGBClassifier(objective=\"binary:logistic\", **xgb_best_params).fit(X_train_control, y_train_control)\n",
    "control_preds = xgb_control.predict(X_valid)\n",
    "control_proba = xgb_control.predict_proba(X_valid)[:, 1]\n",
    "\n",
    "acc = accuracy_score(y_valid, control_preds)\n",
    "auc = roc_auc_score(y_valid, control_proba)\n",
    "logloss = log_loss(y_valid, control_proba)\n",
    "print(f\"Control accuracy score: {acc}\")\n",
    "print(f\"Control roc auc score: {auc}\")\n",
    "print(f\"Control log loss: {logloss}\\n\")\n",
    "\n",
    "xgb_treatment = xgb.XGBClassifier(objective=\"binary:logistic\", **xgb_best_params).fit(X_train_treatment, y_train_treatment)\n",
    "treatment_preds = xgb_treatment.predict(X_valid)\n",
    "treatment_proba = xgb_treatment.predict_proba(X_valid)[:, 1]\n",
    "acc = accuracy_score(y_valid, treatment_preds)\n",
    "auc = roc_auc_score(y_valid, treatment_proba)\n",
    "logloss = log_loss(y_valid, treatment_proba)\n",
    "print(f\"Treatment accuracy score: {acc}\")\n",
    "print(f\"Treatment roc auc score: {auc}\")\n",
    "print(f\"Treatment log loss: {logloss}\\n\")\n",
    "\n",
    "uplift = treatment_proba - control_proba\n",
    "up_score = uplift_score(uplift, valid_is_treatment, y_valid)\n",
    "uplifts.append(up_score)\n",
    "print(f\"Uplift score: {up_score}\\n\")"
   ]
  },
  {
   "cell_type": "markdown",
   "metadata": {},
   "source": [
    "## 1 K-fold (K=5)"
   ]
  },
  {
   "cell_type": "code",
   "execution_count": 35,
   "metadata": {},
   "outputs": [
    {
     "name": "stdout",
     "output_type": "stream",
     "text": [
      "\n",
      "Fold 1\n",
      "Control accuracy score: 0.7100946667916394\n",
      "Control roc auc score: 0.7681524926214873\n",
      "Control log loss: 0.5531099352925214\n",
      "\n",
      "Control accuracy score: 0.7130627675196051\n",
      "Control roc auc score: 0.7693160319434034\n",
      "Control log loss: 0.5517533203449537\n",
      "\n",
      "Uplift score: 0.0536815843195495\n",
      "\n",
      "\n",
      "Fold 2\n",
      "Control accuracy score: 0.7125941200362421\n",
      "Control roc auc score: 0.7697720574855065\n",
      "Control log loss: 0.5519309507853838\n",
      "\n",
      "Control accuracy score: 0.715218545943075\n",
      "Control roc auc score: 0.7711496576865198\n",
      "Control log loss: 0.5504999132654959\n",
      "\n",
      "Uplift score: 0.05243055081031378\n",
      "\n",
      "\n",
      "Fold 3\n",
      "Control accuracy score: 0.7121477223020684\n",
      "Control roc auc score: 0.7710165709273386\n",
      "Control log loss: 0.5511110204550211\n",
      "\n",
      "Control accuracy score: 0.7104605386490033\n",
      "Control roc auc score: 0.7713093061523522\n",
      "Control log loss: 0.5501462862863722\n",
      "\n",
      "Uplift score: 0.07254318539690807\n",
      "\n",
      "\n",
      "Fold 4\n",
      "Control accuracy score: 0.7152096481909642\n",
      "Control roc auc score: 0.7748732724880871\n",
      "Control log loss: 0.5471449461199624\n",
      "\n",
      "Control accuracy score: 0.7134287321127288\n",
      "Control roc auc score: 0.775316480735907\n",
      "Control log loss: 0.5467843875145916\n",
      "\n",
      "Uplift score: 0.04835829808064518\n",
      "\n",
      "\n",
      "Fold 5\n",
      "Control accuracy score: 0.713950945164818\n",
      "Control roc auc score: 0.7726678766704314\n",
      "Control log loss: 0.5490599072189852\n",
      "\n",
      "Control accuracy score: 0.7157006717700359\n",
      "Control roc auc score: 0.7741293737099055\n",
      "Control log loss: 0.5476133738668137\n",
      "\n",
      "Uplift score: 0.044943433578119696\n",
      "\n",
      "\n",
      "Control average accuracy: 0.7127994204971464\n",
      "Control average rocauc: 0.7712964540385702\n",
      "Control average loglos: 0.5504713519743747\n",
      "\n",
      "Treatment average accuracy: 0.7135742511988896\n",
      "Treatment average rocauc: 0.7722441700456175\n",
      "Treatment average loglos: 0.5493594562556454\n",
      "\n",
      "Average uplift score: 0.05439141043710725\n",
      "\n",
      "\n"
     ]
    }
   ],
   "source": [
    "control_acc = []\n",
    "control_auc = []\n",
    "control_loglos = []\n",
    "\n",
    "treatment_acc = []\n",
    "treatment_auc = []\n",
    "treatment_loglos = []\n",
    "\n",
    "uplifts = []\n",
    "\n",
    "skfold = StratifiedKFold(n_splits=5, shuffle=True, random_state=142)\n",
    "for i, (train_idx, test_idx) in enumerate(skfold.split(X_train, y_train)):\n",
    "    print(f\"\\nFold {i + 1}\")\n",
    "\n",
    "    X_train_, y_train_ = X_train.iloc[train_idx], y_train.iloc[train_idx]\n",
    "    X_test_, y_test_ = X_train.iloc[test_idx], y_train.iloc[test_idx]\n",
    "    train_is_treatment_, test_is_treatment_ = train_is_treatment.iloc[train_idx], train_is_treatment.iloc[test_idx]\n",
    "\n",
    "    X_train_control_, X_train_treatment_, y_train_control_, y_train_treatment_ = split_control_treatment(\n",
    "        X_train_, y_train_, train_is_treatment_\n",
    "    )\n",
    "\n",
    "    xgb_control = xgb.XGBClassifier(objective=\"binary:logistic\", **xgb_best_params).fit(X_train_control_, y_train_control_)\n",
    "    control_preds = xgb_control.predict(X_test_)\n",
    "    control_proba = xgb_control.predict_proba(X_test_)[:, 1]\n",
    "    acc = accuracy_score(y_test_, control_preds)\n",
    "    auc = roc_auc_score(y_test_, control_proba)\n",
    "    logloss = log_loss(y_test_, control_proba)\n",
    "    control_acc.append(acc)\n",
    "    control_auc.append(auc)\n",
    "    control_loglos.append(logloss)\n",
    "    print(f\"Control accuracy score: {acc}\")\n",
    "    print(f\"Control roc auc score: {auc}\")\n",
    "    print(f\"Control log loss: {logloss}\\n\")\n",
    "\n",
    "    xgb_treatment = xgb.XGBClassifier(objective=\"binary:logistic\", **xgb_best_params).fit(X_train_treatment_, y_train_treatment_)\n",
    "    treatment_preds = xgb_treatment.predict(X_test_)\n",
    "    treatment_proba = xgb_treatment.predict_proba(X_test_)[:, 1]\n",
    "    acc = accuracy_score(y_test_, treatment_preds)\n",
    "    auc = roc_auc_score(y_test_, treatment_proba)\n",
    "    logloss = log_loss(y_test_, treatment_proba)\n",
    "    treatment_acc.append(acc)\n",
    "    treatment_auc.append(auc)\n",
    "    treatment_loglos.append(logloss)\n",
    "    print(f\"Control accuracy score: {acc}\")\n",
    "    print(f\"Control roc auc score: {auc}\")\n",
    "    print(f\"Control log loss: {logloss}\\n\")\n",
    "\n",
    "    uplift = treatment_proba - control_proba\n",
    "    up_score = uplift_score(uplift, test_is_treatment_, y_test_)\n",
    "    uplifts.append(up_score)\n",
    "    print(f\"Uplift score: {up_score}\\n\")\n",
    "\n",
    "print(f\"\\nControl average accuracy: {np.mean(control_acc)}\")\n",
    "print(f\"Control average rocauc: {np.mean(control_auc)}\")\n",
    "print(f\"Control average loglos: {np.mean(control_loglos)}\\n\")\n",
    "\n",
    "print(f\"Treatment average accuracy: {np.mean(treatment_acc)}\")\n",
    "print(f\"Treatment average rocauc: {np.mean(treatment_auc)}\")\n",
    "print(f\"Treatment average loglos: {np.mean(treatment_loglos)}\\n\")\n",
    "\n",
    "print(f\"Average uplift score: {np.mean(uplifts)}\\n\\n\")"
   ]
  },
  {
   "cell_type": "markdown",
   "metadata": {},
   "source": [
    "## 6 K-folds with different seeds"
   ]
  },
  {
   "cell_type": "code",
   "execution_count": 11,
   "metadata": {
    "scrolled": false
   },
   "outputs": [
    {
     "name": "stdout",
     "output_type": "stream",
     "text": [
      "SEED 42\n",
      "\n",
      "Fold 1\n"
     ]
    },
    {
     "name": "stderr",
     "output_type": "stream",
     "text": [
      "/home/kbrodt/anaconda3/lib/python3.6/site-packages/sklearn/preprocessing/label.py:151: DeprecationWarning: The truth value of an empty array is ambiguous. Returning False, but in future this will result in an error. Use `array.size > 0` to check that an array is not empty.\n",
      "  if diff:\n"
     ]
    },
    {
     "name": "stdout",
     "output_type": "stream",
     "text": [
      "Control accuracy score: 0.713875089824101\n",
      "Control roc auc score: 0.7709506630280397\n",
      "Control log loss: 0.5508473347834087\n",
      "\n"
     ]
    },
    {
     "name": "stderr",
     "output_type": "stream",
     "text": [
      "/home/kbrodt/anaconda3/lib/python3.6/site-packages/sklearn/preprocessing/label.py:151: DeprecationWarning: The truth value of an empty array is ambiguous. Returning False, but in future this will result in an error. Use `array.size > 0` to check that an array is not empty.\n",
      "  if diff:\n"
     ]
    },
    {
     "name": "stdout",
     "output_type": "stream",
     "text": [
      "Control accuracy score: 0.7159371387508983\n",
      "Control roc auc score: 0.7729311668166081\n",
      "Control log loss: 0.5492609231459415\n",
      "\n",
      "Uplift score: 0.06457404434932534\n",
      "\n",
      "\n",
      "Fold 2\n"
     ]
    },
    {
     "name": "stderr",
     "output_type": "stream",
     "text": [
      "/home/kbrodt/anaconda3/lib/python3.6/site-packages/sklearn/preprocessing/label.py:151: DeprecationWarning: The truth value of an empty array is ambiguous. Returning False, but in future this will result in an error. Use `array.size > 0` to check that an array is not empty.\n",
      "  if diff:\n"
     ]
    },
    {
     "name": "stdout",
     "output_type": "stream",
     "text": [
      "Control accuracy score: 0.7105945574405599\n",
      "Control roc auc score: 0.768844163464608\n",
      "Control log loss: 0.5525553738418737\n",
      "\n"
     ]
    },
    {
     "name": "stderr",
     "output_type": "stream",
     "text": [
      "/home/kbrodt/anaconda3/lib/python3.6/site-packages/sklearn/preprocessing/label.py:151: DeprecationWarning: The truth value of an empty array is ambiguous. Returning False, but in future this will result in an error. Use `array.size > 0` to check that an array is not empty.\n",
      "  if diff:\n"
     ]
    },
    {
     "name": "stdout",
     "output_type": "stream",
     "text": [
      "Control accuracy score: 0.7127503358640297\n",
      "Control roc auc score: 0.7693772723812622\n",
      "Control log loss: 0.5515713646559725\n",
      "\n",
      "Uplift score: 0.06642321074522806\n",
      "\n",
      "\n",
      "Fold 3\n"
     ]
    },
    {
     "name": "stderr",
     "output_type": "stream",
     "text": [
      "/home/kbrodt/anaconda3/lib/python3.6/site-packages/sklearn/preprocessing/label.py:151: DeprecationWarning: The truth value of an empty array is ambiguous. Returning False, but in future this will result in an error. Use `array.size > 0` to check that an array is not empty.\n",
      "  if diff:\n"
     ]
    },
    {
     "name": "stdout",
     "output_type": "stream",
     "text": [
      "Control accuracy score: 0.7164594138599013\n",
      "Control roc auc score: 0.7742257030467496\n",
      "Control log loss: 0.5477708995436883\n",
      "\n"
     ]
    },
    {
     "name": "stderr",
     "output_type": "stream",
     "text": [
      "/home/kbrodt/anaconda3/lib/python3.6/site-packages/sklearn/preprocessing/label.py:151: DeprecationWarning: The truth value of an empty array is ambiguous. Returning False, but in future this will result in an error. Use `array.size > 0` to check that an array is not empty.\n",
      "  if diff:\n"
     ]
    },
    {
     "name": "stdout",
     "output_type": "stream",
     "text": [
      "Control accuracy score: 0.7164281697181778\n",
      "Control roc auc score: 0.7752094604362396\n",
      "Control log loss: 0.5468908240589743\n",
      "\n",
      "Uplift score: 0.041064436919453606\n",
      "\n",
      "\n",
      "Fold 4\n"
     ]
    },
    {
     "name": "stderr",
     "output_type": "stream",
     "text": [
      "/home/kbrodt/anaconda3/lib/python3.6/site-packages/sklearn/preprocessing/label.py:151: DeprecationWarning: The truth value of an empty array is ambiguous. Returning False, but in future this will result in an error. Use `array.size > 0` to check that an array is not empty.\n",
      "  if diff:\n"
     ]
    },
    {
     "name": "stdout",
     "output_type": "stream",
     "text": [
      "Control accuracy score: 0.7133974879710054\n",
      "Control roc auc score: 0.7715019580197231\n",
      "Control log loss: 0.5503730294886807\n",
      "\n"
     ]
    },
    {
     "name": "stderr",
     "output_type": "stream",
     "text": [
      "/home/kbrodt/anaconda3/lib/python3.6/site-packages/sklearn/preprocessing/label.py:151: DeprecationWarning: The truth value of an empty array is ambiguous. Returning False, but in future this will result in an error. Use `array.size > 0` to check that an array is not empty.\n",
      "  if diff:\n"
     ]
    },
    {
     "name": "stdout",
     "output_type": "stream",
     "text": [
      "Control accuracy score: 0.713366243829282\n",
      "Control roc auc score: 0.7711703995327306\n",
      "Control log loss: 0.5502083870481428\n",
      "\n",
      "Uplift score: 0.08243138872261346\n",
      "\n",
      "\n",
      "Fold 5\n"
     ]
    },
    {
     "name": "stderr",
     "output_type": "stream",
     "text": [
      "/home/kbrodt/anaconda3/lib/python3.6/site-packages/sklearn/preprocessing/label.py:151: DeprecationWarning: The truth value of an empty array is ambiguous. Returning False, but in future this will result in an error. Use `array.size > 0` to check that an array is not empty.\n",
      "  if diff:\n"
     ]
    },
    {
     "name": "stdout",
     "output_type": "stream",
     "text": [
      "Control accuracy score: 0.7120137478518982\n",
      "Control roc auc score: 0.7709882902666361\n",
      "Control log loss: 0.5505053684639197\n",
      "\n"
     ]
    },
    {
     "name": "stderr",
     "output_type": "stream",
     "text": [
      "/home/kbrodt/anaconda3/lib/python3.6/site-packages/sklearn/preprocessing/label.py:151: DeprecationWarning: The truth value of an empty array is ambiguous. Returning False, but in future this will result in an error. Use `array.size > 0` to check that an array is not empty.\n",
      "  if diff:\n"
     ]
    },
    {
     "name": "stdout",
     "output_type": "stream",
     "text": [
      "Control accuracy score: 0.7142633963443212\n",
      "Control roc auc score: 0.7721678682724993\n",
      "Control log loss: 0.5495270138699838\n",
      "\n",
      "Uplift score: 0.04096196929750795\n",
      "\n",
      "\n",
      "Control average accuracy: 0.7132680593894932\n",
      "Control average rocauc: 0.7713021555651512\n",
      "Control average loglos: 0.5504104012243143\n",
      "\n",
      "Treatment average accuracy: 0.7145490569013417\n",
      "Treatment average rocauc: 0.772171233487868\n",
      "Treatment average loglos: 0.5494917025558029\n",
      "\n",
      "Average uplift score: 0.059091010006825685\n",
      "\n",
      "\n",
      "SEED 142\n",
      "\n",
      "Fold 1\n"
     ]
    },
    {
     "name": "stderr",
     "output_type": "stream",
     "text": [
      "/home/kbrodt/anaconda3/lib/python3.6/site-packages/sklearn/preprocessing/label.py:151: DeprecationWarning: The truth value of an empty array is ambiguous. Returning False, but in future this will result in an error. Use `array.size > 0` to check that an array is not empty.\n",
      "  if diff:\n"
     ]
    },
    {
     "name": "stdout",
     "output_type": "stream",
     "text": [
      "Control accuracy score: 0.7119380135595339\n",
      "Control roc auc score: 0.7682520904060064\n",
      "Control log loss: 0.5529748716483833\n",
      "\n"
     ]
    },
    {
     "name": "stderr",
     "output_type": "stream",
     "text": [
      "/home/kbrodt/anaconda3/lib/python3.6/site-packages/sklearn/preprocessing/label.py:151: DeprecationWarning: The truth value of an empty array is ambiguous. Returning False, but in future this will result in an error. Use `array.size > 0` to check that an array is not empty.\n",
      "  if diff:\n"
     ]
    },
    {
     "name": "stdout",
     "output_type": "stream",
     "text": [
      "Control accuracy score: 0.71300028118849\n",
      "Control roc auc score: 0.7690606062730025\n",
      "Control log loss: 0.5521064507787085\n",
      "\n",
      "Uplift score: 0.06519651887861\n",
      "\n",
      "\n",
      "Fold 2\n"
     ]
    },
    {
     "name": "stderr",
     "output_type": "stream",
     "text": [
      "/home/kbrodt/anaconda3/lib/python3.6/site-packages/sklearn/preprocessing/label.py:151: DeprecationWarning: The truth value of an empty array is ambiguous. Returning False, but in future this will result in an error. Use `array.size > 0` to check that an array is not empty.\n",
      "  if diff:\n"
     ]
    },
    {
     "name": "stdout",
     "output_type": "stream",
     "text": [
      "Control accuracy score: 0.7126253632017996\n",
      "Control roc auc score: 0.7706381456192435\n",
      "Control log loss: 0.5509795006221424\n",
      "\n"
     ]
    },
    {
     "name": "stderr",
     "output_type": "stream",
     "text": [
      "/home/kbrodt/anaconda3/lib/python3.6/site-packages/sklearn/preprocessing/label.py:151: DeprecationWarning: The truth value of an empty array is ambiguous. Returning False, but in future this will result in an error. Use `array.size > 0` to check that an array is not empty.\n",
      "  if diff:\n"
     ]
    },
    {
     "name": "stdout",
     "output_type": "stream",
     "text": [
      "Control accuracy score: 0.7144999531352516\n",
      "Control roc auc score: 0.77239059314066\n",
      "Control log loss: 0.5495326889882926\n",
      "\n",
      "Uplift score: 0.05679433491252317\n",
      "\n",
      "\n",
      "Fold 3\n"
     ]
    },
    {
     "name": "stderr",
     "output_type": "stream",
     "text": [
      "/home/kbrodt/anaconda3/lib/python3.6/site-packages/sklearn/preprocessing/label.py:151: DeprecationWarning: The truth value of an empty array is ambiguous. Returning False, but in future this will result in an error. Use `array.size > 0` to check that an array is not empty.\n",
      "  if diff:\n"
     ]
    },
    {
     "name": "stdout",
     "output_type": "stream",
     "text": [
      "Control accuracy score: 0.7113978629007062\n",
      "Control roc auc score: 0.7707427346748638\n",
      "Control log loss: 0.5509723699867277\n",
      "\n"
     ]
    },
    {
     "name": "stderr",
     "output_type": "stream",
     "text": [
      "/home/kbrodt/anaconda3/lib/python3.6/site-packages/sklearn/preprocessing/label.py:151: DeprecationWarning: The truth value of an empty array is ambiguous. Returning False, but in future this will result in an error. Use `array.size > 0` to check that an array is not empty.\n",
      "  if diff:\n"
     ]
    },
    {
     "name": "stdout",
     "output_type": "stream",
     "text": [
      "Control accuracy score: 0.7122414547272387\n",
      "Control roc auc score: 0.7721271776239612\n",
      "Control log loss: 0.5491944198903551\n",
      "\n",
      "Uplift score: 0.06975544082108831\n",
      "\n",
      "\n",
      "Fold 4\n"
     ]
    },
    {
     "name": "stderr",
     "output_type": "stream",
     "text": [
      "/home/kbrodt/anaconda3/lib/python3.6/site-packages/sklearn/preprocessing/label.py:151: DeprecationWarning: The truth value of an empty array is ambiguous. Returning False, but in future this will result in an error. Use `array.size > 0` to check that an array is not empty.\n",
      "  if diff:\n"
     ]
    },
    {
     "name": "stdout",
     "output_type": "stream",
     "text": [
      "Control accuracy score: 0.7162719490095607\n",
      "Control roc auc score: 0.7738046126451343\n",
      "Control log loss: 0.5487756425731193\n",
      "\n"
     ]
    },
    {
     "name": "stderr",
     "output_type": "stream",
     "text": [
      "/home/kbrodt/anaconda3/lib/python3.6/site-packages/sklearn/preprocessing/label.py:151: DeprecationWarning: The truth value of an empty array is ambiguous. Returning False, but in future this will result in an error. Use `array.size > 0` to check that an array is not empty.\n",
      "  if diff:\n"
     ]
    },
    {
     "name": "stdout",
     "output_type": "stream",
     "text": [
      "Control accuracy score: 0.7148659626320065\n",
      "Control roc auc score: 0.7738398794038417\n",
      "Control log loss: 0.548257632257839\n",
      "\n",
      "Uplift score: 0.05161468322096885\n",
      "\n",
      "\n",
      "Fold 5\n"
     ]
    },
    {
     "name": "stderr",
     "output_type": "stream",
     "text": [
      "/home/kbrodt/anaconda3/lib/python3.6/site-packages/sklearn/preprocessing/label.py:151: DeprecationWarning: The truth value of an empty array is ambiguous. Returning False, but in future this will result in an error. Use `array.size > 0` to check that an array is not empty.\n",
      "  if diff:\n"
     ]
    },
    {
     "name": "stdout",
     "output_type": "stream",
     "text": [
      "Control accuracy score: 0.7118887673800969\n",
      "Control roc auc score: 0.7724237317587657\n",
      "Control log loss: 0.5492963826103106\n",
      "\n"
     ]
    },
    {
     "name": "stderr",
     "output_type": "stream",
     "text": [
      "/home/kbrodt/anaconda3/lib/python3.6/site-packages/sklearn/preprocessing/label.py:151: DeprecationWarning: The truth value of an empty array is ambiguous. Returning False, but in future this will result in an error. Use `array.size > 0` to check that an array is not empty.\n",
      "  if diff:\n"
     ]
    },
    {
     "name": "stdout",
     "output_type": "stream",
     "text": [
      "Control accuracy score: 0.7146695828776753\n",
      "Control roc auc score: 0.773841484562807\n",
      "Control log loss: 0.5477815399383766\n",
      "\n",
      "Uplift score: 0.06091352870331801\n",
      "\n",
      "\n",
      "Control average accuracy: 0.7128243912103394\n",
      "Control average rocauc: 0.7711722630208028\n",
      "Control average loglos: 0.5505997534881366\n",
      "\n",
      "Treatment average accuracy: 0.7138554469121324\n",
      "Treatment average rocauc: 0.7722519482008545\n",
      "Treatment average loglos: 0.5493745463707144\n",
      "\n",
      "Average uplift score: 0.060854901307301666\n",
      "\n",
      "\n",
      "SEED 242\n",
      "\n",
      "Fold 1\n"
     ]
    },
    {
     "name": "stderr",
     "output_type": "stream",
     "text": [
      "/home/kbrodt/anaconda3/lib/python3.6/site-packages/sklearn/preprocessing/label.py:151: DeprecationWarning: The truth value of an empty array is ambiguous. Returning False, but in future this will result in an error. Use `array.size > 0` to check that an array is not empty.\n",
      "  if diff:\n"
     ]
    },
    {
     "name": "stdout",
     "output_type": "stream",
     "text": [
      "Control accuracy score: 0.7129690380229324\n",
      "Control roc auc score: 0.7691147340628549\n",
      "Control log loss: 0.5528620107734727\n",
      "\n"
     ]
    },
    {
     "name": "stderr",
     "output_type": "stream",
     "text": [
      "/home/kbrodt/anaconda3/lib/python3.6/site-packages/sklearn/preprocessing/label.py:151: DeprecationWarning: The truth value of an empty array is ambiguous. Returning False, but in future this will result in an error. Use `array.size > 0` to check that an array is not empty.\n",
      "  if diff:\n"
     ]
    },
    {
     "name": "stdout",
     "output_type": "stream",
     "text": [
      "Control accuracy score: 0.7117817977317462\n",
      "Control roc auc score: 0.7697453488087321\n",
      "Control log loss: 0.5518446222637163\n",
      "\n",
      "Uplift score: 0.06648809266546518\n",
      "\n",
      "\n",
      "Fold 2\n"
     ]
    },
    {
     "name": "stderr",
     "output_type": "stream",
     "text": [
      "/home/kbrodt/anaconda3/lib/python3.6/site-packages/sklearn/preprocessing/label.py:151: DeprecationWarning: The truth value of an empty array is ambiguous. Returning False, but in future this will result in an error. Use `array.size > 0` to check that an array is not empty.\n",
      "  if diff:\n"
     ]
    },
    {
     "name": "stdout",
     "output_type": "stream",
     "text": [
      "Control accuracy score: 0.7086262380104352\n",
      "Control roc auc score: 0.767592498972415\n",
      "Control log loss: 0.5533930101188448\n",
      "\n"
     ]
    },
    {
     "name": "stderr",
     "output_type": "stream",
     "text": [
      "/home/kbrodt/anaconda3/lib/python3.6/site-packages/sklearn/preprocessing/label.py:151: DeprecationWarning: The truth value of an empty array is ambiguous. Returning False, but in future this will result in an error. Use `array.size > 0` to check that an array is not empty.\n",
      "  if diff:\n"
     ]
    },
    {
     "name": "stdout",
     "output_type": "stream",
     "text": [
      "Control accuracy score: 0.7099384509638517\n",
      "Control roc auc score: 0.7675443819293637\n",
      "Control log loss: 0.5529916281489348\n",
      "\n",
      "Uplift score: 0.05962444541767753\n",
      "\n",
      "\n",
      "Fold 3\n"
     ]
    },
    {
     "name": "stderr",
     "output_type": "stream",
     "text": [
      "/home/kbrodt/anaconda3/lib/python3.6/site-packages/sklearn/preprocessing/label.py:151: DeprecationWarning: The truth value of an empty array is ambiguous. Returning False, but in future this will result in an error. Use `array.size > 0` to check that an array is not empty.\n",
      "  if diff:\n"
     ]
    },
    {
     "name": "stdout",
     "output_type": "stream",
     "text": [
      "Control accuracy score: 0.712272698868962\n",
      "Control roc auc score: 0.7706794674436903\n",
      "Control log loss: 0.5512102934221853\n",
      "\n"
     ]
    },
    {
     "name": "stderr",
     "output_type": "stream",
     "text": [
      "/home/kbrodt/anaconda3/lib/python3.6/site-packages/sklearn/preprocessing/label.py:151: DeprecationWarning: The truth value of an empty array is ambiguous. Returning False, but in future this will result in an error. Use `array.size > 0` to check that an array is not empty.\n",
      "  if diff:\n"
     ]
    },
    {
     "name": "stdout",
     "output_type": "stream",
     "text": [
      "Control accuracy score: 0.7146472536399425\n",
      "Control roc auc score: 0.7725112199082125\n",
      "Control log loss: 0.5497293718922042\n",
      "\n",
      "Uplift score: 0.0703971137932321\n",
      "\n",
      "\n",
      "Fold 4\n"
     ]
    },
    {
     "name": "stderr",
     "output_type": "stream",
     "text": [
      "/home/kbrodt/anaconda3/lib/python3.6/site-packages/sklearn/preprocessing/label.py:151: DeprecationWarning: The truth value of an empty array is ambiguous. Returning False, but in future this will result in an error. Use `array.size > 0` to check that an array is not empty.\n",
      "  if diff:\n"
     ]
    },
    {
     "name": "stdout",
     "output_type": "stream",
     "text": [
      "Control accuracy score: 0.7146472536399425\n",
      "Control roc auc score: 0.7752483727661514\n",
      "Control log loss: 0.5468911459216235\n",
      "\n"
     ]
    },
    {
     "name": "stderr",
     "output_type": "stream",
     "text": [
      "/home/kbrodt/anaconda3/lib/python3.6/site-packages/sklearn/preprocessing/label.py:151: DeprecationWarning: The truth value of an empty array is ambiguous. Returning False, but in future this will result in an error. Use `array.size > 0` to check that an array is not empty.\n",
      "  if diff:\n"
     ]
    },
    {
     "name": "stdout",
     "output_type": "stream",
     "text": [
      "Control accuracy score: 0.7164594138599013\n",
      "Control roc auc score: 0.776159537719035\n",
      "Control log loss: 0.545871440691833\n",
      "\n",
      "Uplift score: 0.05062867984826447\n",
      "\n",
      "\n",
      "Fold 5\n"
     ]
    },
    {
     "name": "stderr",
     "output_type": "stream",
     "text": [
      "/home/kbrodt/anaconda3/lib/python3.6/site-packages/sklearn/preprocessing/label.py:151: DeprecationWarning: The truth value of an empty array is ambiguous. Returning False, but in future this will result in an error. Use `array.size > 0` to check that an array is not empty.\n",
      "  if diff:\n"
     ]
    },
    {
     "name": "stdout",
     "output_type": "stream",
     "text": [
      "Control accuracy score: 0.7142321512263708\n",
      "Control roc auc score: 0.7735173065718238\n",
      "Control log loss: 0.5485386317239955\n",
      "\n"
     ]
    },
    {
     "name": "stderr",
     "output_type": "stream",
     "text": [
      "/home/kbrodt/anaconda3/lib/python3.6/site-packages/sklearn/preprocessing/label.py:151: DeprecationWarning: The truth value of an empty array is ambiguous. Returning False, but in future this will result in an error. Use `array.size > 0` to check that an array is not empty.\n",
      "  if diff:\n"
     ]
    },
    {
     "name": "stdout",
     "output_type": "stream",
     "text": [
      "Control accuracy score: 0.7183877519137635\n",
      "Control roc auc score: 0.7746723536672361\n",
      "Control log loss: 0.5469322649823143\n",
      "\n",
      "Uplift score: 0.05957048396496911\n",
      "\n",
      "\n",
      "Control average accuracy: 0.7125494759537288\n",
      "Control average rocauc: 0.7712304759633872\n",
      "Control average loglos: 0.5505790183920244\n",
      "\n",
      "Treatment average accuracy: 0.7142429336218411\n",
      "Treatment average rocauc: 0.772126568406516\n",
      "Treatment average loglos: 0.5494738655958006\n",
      "\n",
      "Average uplift score: 0.06134176313792168\n",
      "\n",
      "\n",
      "SEED 342\n",
      "\n",
      "Fold 1\n"
     ]
    },
    {
     "name": "stderr",
     "output_type": "stream",
     "text": [
      "/home/kbrodt/anaconda3/lib/python3.6/site-packages/sklearn/preprocessing/label.py:151: DeprecationWarning: The truth value of an empty array is ambiguous. Returning False, but in future this will result in an error. Use `array.size > 0` to check that an array is not empty.\n",
      "  if diff:\n"
     ]
    },
    {
     "name": "stdout",
     "output_type": "stream",
     "text": [
      "Control accuracy score: 0.7079388883681694\n",
      "Control roc auc score: 0.7658575389545275\n",
      "Control log loss: 0.5552040712685198\n",
      "\n"
     ]
    },
    {
     "name": "stderr",
     "output_type": "stream",
     "text": [
      "/home/kbrodt/anaconda3/lib/python3.6/site-packages/sklearn/preprocessing/label.py:151: DeprecationWarning: The truth value of an empty array is ambiguous. Returning False, but in future this will result in an error. Use `array.size > 0` to check that an array is not empty.\n",
      "  if diff:\n"
     ]
    },
    {
     "name": "stdout",
     "output_type": "stream",
     "text": [
      "Control accuracy score: 0.7104383416127722\n",
      "Control roc auc score: 0.7674474498344148\n",
      "Control log loss: 0.5534048303006776\n",
      "\n",
      "Uplift score: 0.05320784678045365\n",
      "\n",
      "\n",
      "Fold 2\n"
     ]
    },
    {
     "name": "stderr",
     "output_type": "stream",
     "text": [
      "/home/kbrodt/anaconda3/lib/python3.6/site-packages/sklearn/preprocessing/label.py:151: DeprecationWarning: The truth value of an empty array is ambiguous. Returning False, but in future this will result in an error. Use `array.size > 0` to check that an array is not empty.\n",
      "  if diff:\n"
     ]
    },
    {
     "name": "stdout",
     "output_type": "stream",
     "text": [
      "Control accuracy score: 0.7160621114131284\n",
      "Control roc auc score: 0.7718649324133569\n",
      "Control log loss: 0.5503092781514103\n",
      "\n"
     ]
    },
    {
     "name": "stderr",
     "output_type": "stream",
     "text": [
      "/home/kbrodt/anaconda3/lib/python3.6/site-packages/sklearn/preprocessing/label.py:151: DeprecationWarning: The truth value of an empty array is ambiguous. Returning False, but in future this will result in an error. Use `array.size > 0` to check that an array is not empty.\n",
      "  if diff:\n"
     ]
    },
    {
     "name": "stdout",
     "output_type": "stream",
     "text": [
      "Control accuracy score: 0.7156247070953229\n",
      "Control roc auc score: 0.7734274718187524\n",
      "Control log loss: 0.5485779368222159\n",
      "\n",
      "Uplift score: 0.052501638200399325\n",
      "\n",
      "\n",
      "Fold 3\n"
     ]
    },
    {
     "name": "stderr",
     "output_type": "stream",
     "text": [
      "/home/kbrodt/anaconda3/lib/python3.6/site-packages/sklearn/preprocessing/label.py:151: DeprecationWarning: The truth value of an empty array is ambiguous. Returning False, but in future this will result in an error. Use `array.size > 0` to check that an array is not empty.\n",
      "  if diff:\n"
     ]
    },
    {
     "name": "stdout",
     "output_type": "stream",
     "text": [
      "Control accuracy score: 0.7137724176716865\n",
      "Control roc auc score: 0.7715713647242202\n",
      "Control log loss: 0.5501807677907978\n",
      "\n"
     ]
    },
    {
     "name": "stderr",
     "output_type": "stream",
     "text": [
      "/home/kbrodt/anaconda3/lib/python3.6/site-packages/sklearn/preprocessing/label.py:151: DeprecationWarning: The truth value of an empty array is ambiguous. Returning False, but in future this will result in an error. Use `array.size > 0` to check that an array is not empty.\n",
      "  if diff:\n"
     ]
    },
    {
     "name": "stdout",
     "output_type": "stream",
     "text": [
      "Control accuracy score: 0.7143035680809848\n",
      "Control roc auc score: 0.7723881756660244\n",
      "Control log loss: 0.5493545092324902\n",
      "\n",
      "Uplift score: 0.07343006132866181\n",
      "\n",
      "\n",
      "Fold 4\n"
     ]
    },
    {
     "name": "stderr",
     "output_type": "stream",
     "text": [
      "/home/kbrodt/anaconda3/lib/python3.6/site-packages/sklearn/preprocessing/label.py:151: DeprecationWarning: The truth value of an empty array is ambiguous. Returning False, but in future this will result in an error. Use `array.size > 0` to check that an array is not empty.\n",
      "  if diff:\n"
     ]
    },
    {
     "name": "stdout",
     "output_type": "stream",
     "text": [
      "Control accuracy score: 0.711241642192089\n",
      "Control roc auc score: 0.7714158728269662\n",
      "Control log loss: 0.5502453773395195\n",
      "\n"
     ]
    },
    {
     "name": "stderr",
     "output_type": "stream",
     "text": [
      "/home/kbrodt/anaconda3/lib/python3.6/site-packages/sklearn/preprocessing/label.py:151: DeprecationWarning: The truth value of an empty array is ambiguous. Returning False, but in future this will result in an error. Use `array.size > 0` to check that an array is not empty.\n",
      "  if diff:\n"
     ]
    },
    {
     "name": "stdout",
     "output_type": "stream",
     "text": [
      "Control accuracy score: 0.7130850465537711\n",
      "Control roc auc score: 0.772318037775939\n",
      "Control log loss: 0.5492225139009782\n",
      "\n",
      "Uplift score: 0.06022452504317788\n",
      "\n",
      "\n",
      "Fold 5\n"
     ]
    },
    {
     "name": "stderr",
     "output_type": "stream",
     "text": [
      "/home/kbrodt/anaconda3/lib/python3.6/site-packages/sklearn/preprocessing/label.py:151: DeprecationWarning: The truth value of an empty array is ambiguous. Returning False, but in future this will result in an error. Use `array.size > 0` to check that an array is not empty.\n",
      "  if diff:\n"
     ]
    },
    {
     "name": "stdout",
     "output_type": "stream",
     "text": [
      "Control accuracy score: 0.7145133572879238\n",
      "Control roc auc score: 0.7750536661828901\n",
      "Control log loss: 0.5470800804413379\n",
      "\n"
     ]
    },
    {
     "name": "stderr",
     "output_type": "stream",
     "text": [
      "/home/kbrodt/anaconda3/lib/python3.6/site-packages/sklearn/preprocessing/label.py:151: DeprecationWarning: The truth value of an empty array is ambiguous. Returning False, but in future this will result in an error. Use `array.size > 0` to check that an array is not empty.\n",
      "  if diff:\n"
     ]
    },
    {
     "name": "stdout",
     "output_type": "stream",
     "text": [
      "Control accuracy score: 0.7166067801905952\n",
      "Control roc auc score: 0.7757242164035468\n",
      "Control log loss: 0.5461711532371857\n",
      "\n",
      "Uplift score: 0.046730232742258404\n",
      "\n",
      "\n",
      "Control average accuracy: 0.7127056833865995\n",
      "Control average rocauc: 0.7711526750203921\n",
      "Control average loglos: 0.5506039149983171\n",
      "\n",
      "Treatment average accuracy: 0.7140116887066892\n",
      "Treatment average rocauc: 0.7722610702997355\n",
      "Treatment average loglos: 0.5493461886987095\n",
      "\n",
      "Average uplift score: 0.05721886081899021\n",
      "\n",
      "\n",
      "SEED 442\n",
      "\n",
      "Fold 1\n"
     ]
    },
    {
     "name": "stderr",
     "output_type": "stream",
     "text": [
      "/home/kbrodt/anaconda3/lib/python3.6/site-packages/sklearn/preprocessing/label.py:151: DeprecationWarning: The truth value of an empty array is ambiguous. Returning False, but in future this will result in an error. Use `array.size > 0` to check that an array is not empty.\n",
      "  if diff:\n"
     ]
    },
    {
     "name": "stdout",
     "output_type": "stream",
     "text": [
      "Control accuracy score: 0.7115630955728435\n",
      "Control roc auc score: 0.7710051677840939\n",
      "Control log loss: 0.5505405474525977\n",
      "\n"
     ]
    },
    {
     "name": "stderr",
     "output_type": "stream",
     "text": [
      "/home/kbrodt/anaconda3/lib/python3.6/site-packages/sklearn/preprocessing/label.py:151: DeprecationWarning: The truth value of an empty array is ambiguous. Returning False, but in future this will result in an error. Use `array.size > 0` to check that an array is not empty.\n",
      "  if diff:\n"
     ]
    },
    {
     "name": "stdout",
     "output_type": "stream",
     "text": [
      "Control accuracy score: 0.7128440653607023\n",
      "Control roc auc score: 0.7716239391632556\n",
      "Control log loss: 0.5497102181297377\n",
      "\n",
      "Uplift score: 0.05920942091397219\n",
      "\n",
      "\n",
      "Fold 2\n"
     ]
    },
    {
     "name": "stderr",
     "output_type": "stream",
     "text": [
      "/home/kbrodt/anaconda3/lib/python3.6/site-packages/sklearn/preprocessing/label.py:151: DeprecationWarning: The truth value of an empty array is ambiguous. Returning False, but in future this will result in an error. Use `array.size > 0` to check that an array is not empty.\n",
      "  if diff:\n"
     ]
    },
    {
     "name": "stdout",
     "output_type": "stream",
     "text": [
      "Control accuracy score: 0.7145936826319242\n",
      "Control roc auc score: 0.7716799476416314\n",
      "Control log loss: 0.5500036921793499\n",
      "\n"
     ]
    },
    {
     "name": "stderr",
     "output_type": "stream",
     "text": [
      "/home/kbrodt/anaconda3/lib/python3.6/site-packages/sklearn/preprocessing/label.py:151: DeprecationWarning: The truth value of an empty array is ambiguous. Returning False, but in future this will result in an error. Use `array.size > 0` to check that an array is not empty.\n",
      "  if diff:\n"
     ]
    },
    {
     "name": "stdout",
     "output_type": "stream",
     "text": [
      "Control accuracy score: 0.7157809229231106\n",
      "Control roc auc score: 0.7726744735455724\n",
      "Control log loss: 0.5490644447320472\n",
      "\n",
      "Uplift score: 0.05291498396294725\n",
      "\n",
      "\n",
      "Fold 3\n"
     ]
    },
    {
     "name": "stderr",
     "output_type": "stream",
     "text": [
      "/home/kbrodt/anaconda3/lib/python3.6/site-packages/sklearn/preprocessing/label.py:151: DeprecationWarning: The truth value of an empty array is ambiguous. Returning False, but in future this will result in an error. Use `array.size > 0` to check that an array is not empty.\n",
      "  if diff:\n"
     ]
    },
    {
     "name": "stdout",
     "output_type": "stream",
     "text": [
      "Control accuracy score: 0.7137099293882397\n",
      "Control roc auc score: 0.7714727810220048\n",
      "Control log loss: 0.5504995929952546\n",
      "\n"
     ]
    },
    {
     "name": "stderr",
     "output_type": "stream",
     "text": [
      "/home/kbrodt/anaconda3/lib/python3.6/site-packages/sklearn/preprocessing/label.py:151: DeprecationWarning: The truth value of an empty array is ambiguous. Returning False, but in future this will result in an error. Use `array.size > 0` to check that an array is not empty.\n",
      "  if diff:\n"
     ]
    },
    {
     "name": "stdout",
     "output_type": "stream",
     "text": [
      "Control accuracy score: 0.7158345310254327\n",
      "Control roc auc score: 0.7736696084437792\n",
      "Control log loss: 0.5483451615390195\n",
      "\n",
      "Uplift score: 0.06039890490566335\n",
      "\n",
      "\n",
      "Fold 4\n"
     ]
    },
    {
     "name": "stderr",
     "output_type": "stream",
     "text": [
      "/home/kbrodt/anaconda3/lib/python3.6/site-packages/sklearn/preprocessing/label.py:151: DeprecationWarning: The truth value of an empty array is ambiguous. Returning False, but in future this will result in an error. Use `array.size > 0` to check that an array is not empty.\n",
      "  if diff:\n"
     ]
    },
    {
     "name": "stdout",
     "output_type": "stream",
     "text": [
      "Control accuracy score: 0.7115228394675999\n",
      "Control roc auc score: 0.770990049396827\n",
      "Control log loss: 0.5506572926546539\n",
      "\n"
     ]
    },
    {
     "name": "stderr",
     "output_type": "stream",
     "text": [
      "/home/kbrodt/anaconda3/lib/python3.6/site-packages/sklearn/preprocessing/label.py:151: DeprecationWarning: The truth value of an empty array is ambiguous. Returning False, but in future this will result in an error. Use `array.size > 0` to check that an array is not empty.\n",
      "  if diff:\n"
     ]
    },
    {
     "name": "stdout",
     "output_type": "stream",
     "text": [
      "Control accuracy score: 0.7108667124914079\n",
      "Control roc auc score: 0.7716835633920753\n",
      "Control log loss: 0.5499567085077612\n",
      "\n",
      "Uplift score: 0.06485051437012168\n",
      "\n",
      "\n",
      "Fold 5\n"
     ]
    },
    {
     "name": "stderr",
     "output_type": "stream",
     "text": [
      "/home/kbrodt/anaconda3/lib/python3.6/site-packages/sklearn/preprocessing/label.py:151: DeprecationWarning: The truth value of an empty array is ambiguous. Returning False, but in future this will result in an error. Use `array.size > 0` to check that an array is not empty.\n",
      "  if diff:\n"
     ]
    },
    {
     "name": "stdout",
     "output_type": "stream",
     "text": [
      "Control accuracy score: 0.712388689267302\n",
      "Control roc auc score: 0.771225197296093\n",
      "Control log loss: 0.5507578529299372\n",
      "\n"
     ]
    },
    {
     "name": "stderr",
     "output_type": "stream",
     "text": [
      "/home/kbrodt/anaconda3/lib/python3.6/site-packages/sklearn/preprocessing/label.py:151: DeprecationWarning: The truth value of an empty array is ambiguous. Returning False, but in future this will result in an error. Use `array.size > 0` to check that an array is not empty.\n",
      "  if diff:\n"
     ]
    },
    {
     "name": "stdout",
     "output_type": "stream",
     "text": [
      "Control accuracy score: 0.715513201062334\n",
      "Control roc auc score: 0.7716994298015454\n",
      "Control log loss: 0.5497076554526528\n",
      "\n",
      "Uplift score: 0.06296860554448735\n",
      "\n",
      "\n",
      "Control average accuracy: 0.7127556472655818\n",
      "Control average rocauc: 0.77127462862813\n",
      "Control average loglos: 0.5504917956423587\n",
      "\n",
      "Treatment average accuracy: 0.7141678865725976\n",
      "Treatment average rocauc: 0.7722702028692456\n",
      "Treatment average loglos: 0.5493568376722437\n",
      "\n",
      "Average uplift score: 0.060068485939438365\n",
      "\n",
      "\n",
      "SEED 542\n",
      "\n",
      "Fold 1\n"
     ]
    },
    {
     "name": "stderr",
     "output_type": "stream",
     "text": [
      "/home/kbrodt/anaconda3/lib/python3.6/site-packages/sklearn/preprocessing/label.py:151: DeprecationWarning: The truth value of an empty array is ambiguous. Returning False, but in future this will result in an error. Use `array.size > 0` to check that an array is not empty.\n",
      "  if diff:\n"
     ]
    },
    {
     "name": "stdout",
     "output_type": "stream",
     "text": [
      "Control accuracy score: 0.7109069890961353\n",
      "Control roc auc score: 0.7699673197643396\n",
      "Control log loss: 0.5515555991642879\n",
      "\n"
     ]
    },
    {
     "name": "stderr",
     "output_type": "stream",
     "text": [
      "/home/kbrodt/anaconda3/lib/python3.6/site-packages/sklearn/preprocessing/label.py:151: DeprecationWarning: The truth value of an empty array is ambiguous. Returning False, but in future this will result in an error. Use `array.size > 0` to check that an array is not empty.\n",
      "  if diff:\n"
     ]
    },
    {
     "name": "stdout",
     "output_type": "stream",
     "text": [
      "Control accuracy score: 0.71300028118849\n",
      "Control roc auc score: 0.7703176559966507\n",
      "Control log loss: 0.5507202278082421\n",
      "\n",
      "Uplift score: 0.07123050064469993\n",
      "\n",
      "\n",
      "Fold 2\n"
     ]
    },
    {
     "name": "stderr",
     "output_type": "stream",
     "text": [
      "/home/kbrodt/anaconda3/lib/python3.6/site-packages/sklearn/preprocessing/label.py:151: DeprecationWarning: The truth value of an empty array is ambiguous. Returning False, but in future this will result in an error. Use `array.size > 0` to check that an array is not empty.\n",
      "  if diff:\n"
     ]
    },
    {
     "name": "stdout",
     "output_type": "stream",
     "text": [
      "Control accuracy score: 0.7159996250820133\n",
      "Control roc auc score: 0.7765535137574768\n",
      "Control log loss: 0.545230683991048\n",
      "\n"
     ]
    },
    {
     "name": "stderr",
     "output_type": "stream",
     "text": [
      "/home/kbrodt/anaconda3/lib/python3.6/site-packages/sklearn/preprocessing/label.py:151: DeprecationWarning: The truth value of an empty array is ambiguous. Returning False, but in future this will result in an error. Use `array.size > 0` to check that an array is not empty.\n",
      "  if diff:\n"
     ]
    },
    {
     "name": "stdout",
     "output_type": "stream",
     "text": [
      "Control accuracy score: 0.7161870840753585\n",
      "Control roc auc score: 0.776537445055312\n",
      "Control log loss: 0.545242740140202\n",
      "\n",
      "Uplift score: 0.06554760263858289\n",
      "\n",
      "\n",
      "Fold 3\n"
     ]
    },
    {
     "name": "stderr",
     "output_type": "stream",
     "text": [
      "/home/kbrodt/anaconda3/lib/python3.6/site-packages/sklearn/preprocessing/label.py:151: DeprecationWarning: The truth value of an empty array is ambiguous. Returning False, but in future this will result in an error. Use `array.size > 0` to check that an array is not empty.\n",
      "  if diff:\n"
     ]
    },
    {
     "name": "stdout",
     "output_type": "stream",
     "text": [
      "Control accuracy score: 0.7143035680809848\n",
      "Control roc auc score: 0.7711269654517171\n",
      "Control log loss: 0.5507664421418129\n",
      "\n"
     ]
    },
    {
     "name": "stderr",
     "output_type": "stream",
     "text": [
      "/home/kbrodt/anaconda3/lib/python3.6/site-packages/sklearn/preprocessing/label.py:151: DeprecationWarning: The truth value of an empty array is ambiguous. Returning False, but in future this will result in an error. Use `array.size > 0` to check that an array is not empty.\n",
      "  if diff:\n"
     ]
    },
    {
     "name": "stdout",
     "output_type": "stream",
     "text": [
      "Control accuracy score: 0.7149284509154533\n",
      "Control roc auc score: 0.773435036650253\n",
      "Control log loss: 0.5485834628548435\n",
      "\n",
      "Uplift score: 0.05517865225245866\n",
      "\n",
      "\n",
      "Fold 4\n"
     ]
    },
    {
     "name": "stderr",
     "output_type": "stream",
     "text": [
      "/home/kbrodt/anaconda3/lib/python3.6/site-packages/sklearn/preprocessing/label.py:151: DeprecationWarning: The truth value of an empty array is ambiguous. Returning False, but in future this will result in an error. Use `array.size > 0` to check that an array is not empty.\n",
      "  if diff:\n"
     ]
    },
    {
     "name": "stdout",
     "output_type": "stream",
     "text": [
      "Control accuracy score: 0.7145222770730488\n",
      "Control roc auc score: 0.7717382863157387\n",
      "Control log loss: 0.5505308353134412\n",
      "\n"
     ]
    },
    {
     "name": "stderr",
     "output_type": "stream",
     "text": [
      "/home/kbrodt/anaconda3/lib/python3.6/site-packages/sklearn/preprocessing/label.py:151: DeprecationWarning: The truth value of an empty array is ambiguous. Returning False, but in future this will result in an error. Use `array.size > 0` to check that an array is not empty.\n",
      "  if diff:\n"
     ]
    },
    {
     "name": "stdout",
     "output_type": "stream",
     "text": [
      "Control accuracy score: 0.713147534837218\n",
      "Control roc auc score: 0.7717467374126215\n",
      "Control log loss: 0.5501751066391259\n",
      "\n",
      "Uplift score: 0.06458386671515204\n",
      "\n",
      "\n",
      "Fold 5\n"
     ]
    },
    {
     "name": "stderr",
     "output_type": "stream",
     "text": [
      "/home/kbrodt/anaconda3/lib/python3.6/site-packages/sklearn/preprocessing/label.py:151: DeprecationWarning: The truth value of an empty array is ambiguous. Returning False, but in future this will result in an error. Use `array.size > 0` to check that an array is not empty.\n",
      "  if diff:\n"
     ]
    },
    {
     "name": "stdout",
     "output_type": "stream",
     "text": [
      "Control accuracy score: 0.7100765505389783\n",
      "Control roc auc score: 0.7666618430690748\n",
      "Control log loss: 0.5546183927405735\n",
      "\n"
     ]
    },
    {
     "name": "stderr",
     "output_type": "stream",
     "text": [
      "/home/kbrodt/anaconda3/lib/python3.6/site-packages/sklearn/preprocessing/label.py:151: DeprecationWarning: The truth value of an empty array is ambiguous. Returning False, but in future this will result in an error. Use `array.size > 0` to check that an array is not empty.\n",
      "  if diff:\n"
     ]
    },
    {
     "name": "stdout",
     "output_type": "stream",
     "text": [
      "Control accuracy score: 0.7128886111545071\n",
      "Control roc auc score: 0.7686673475385686\n",
      "Control log loss: 0.5523552555458175\n",
      "\n",
      "Uplift score: 0.05479061909384164\n",
      "\n",
      "\n",
      "Control average accuracy: 0.7131618019742321\n",
      "Control average rocauc: 0.7712095856716694\n",
      "Control average loglos: 0.5505403906702326\n",
      "\n",
      "Treatment average accuracy: 0.7140303924342053\n",
      "Treatment average rocauc: 0.7721408445306812\n",
      "Treatment average loglos: 0.5494153585976462\n",
      "\n",
      "Average uplift score: 0.062266248268947035\n",
      "\n",
      "\n",
      "Average for uplift score all kfolds: 0.06014021157990412\n"
     ]
    }
   ],
   "source": [
    "seeds = [int(i + \"42\") for i in [\"\", \"1\", \"2\", \"3\", \"4\", \"5\"]]\n",
    "kfolds_uplifts = []\n",
    "for seed in seeds:\n",
    "    print(f\"SEED {seed}\")\n",
    "    control_acc = []\n",
    "    control_auc = []\n",
    "    control_loglos = []\n",
    "\n",
    "    treatment_acc = []\n",
    "    treatment_auc = []\n",
    "    treatment_loglos = []\n",
    "\n",
    "    uplifts = []\n",
    "    \n",
    "    skfold = StratifiedKFold(n_splits=5, shuffle=True, random_state=int(seed))\n",
    "    for i, (train_idx, test_idx) in enumerate(skfold.split(X_train, y_train)):\n",
    "        print(f\"\\nFold {i + 1}\")\n",
    "\n",
    "        X_train_, y_train_ = X_train.iloc[train_idx], y_train.iloc[train_idx]\n",
    "        X_test_, y_test_ = X_train.iloc[test_idx], y_train.iloc[test_idx]\n",
    "        train_is_treatment_, test_is_treatment_ = train_is_treatment.iloc[train_idx], train_is_treatment.iloc[test_idx]\n",
    "\n",
    "        X_train_control_, X_train_treatment_, y_train_control_, y_train_treatment_ = split_control_treatment(\n",
    "            X_train_, y_train_, train_is_treatment_\n",
    "        )\n",
    "\n",
    "        xgb_control = xgb.XGBClassifier(objective=\"binary:logistic\", **xgb_best_params).fit(X_train_control_, y_train_control_)\n",
    "        control_preds = xgb_control.predict(X_test_)\n",
    "        control_proba = xgb_control.predict_proba(X_test_)[:, 1]\n",
    "        acc = accuracy_score(y_test_, control_preds)\n",
    "        auc = roc_auc_score(y_test_, control_proba)\n",
    "        logloss = log_loss(y_test_, control_proba)\n",
    "        control_acc.append(acc)\n",
    "        control_auc.append(auc)\n",
    "        control_loglos.append(logloss)\n",
    "        print(f\"Control accuracy score: {acc}\")\n",
    "        print(f\"Control roc auc score: {auc}\")\n",
    "        print(f\"Control log loss: {logloss}\\n\")\n",
    "\n",
    "        xgb_treatment = xgb.XGBClassifier(objective=\"binary:logistic\", **xgb_best_params).fit(X_train_treatment_, y_train_treatment_)\n",
    "        treatment_preds = xgb_treatment.predict(X_test_)\n",
    "        treatment_proba = xgb_treatment.predict_proba(X_test_)[:, 1]\n",
    "        acc = accuracy_score(y_test_, treatment_preds)\n",
    "        auc = roc_auc_score(y_test_, treatment_proba)\n",
    "        logloss = log_loss(y_test_, treatment_proba)\n",
    "        treatment_acc.append(acc)\n",
    "        treatment_auc.append(auc)\n",
    "        treatment_loglos.append(logloss)\n",
    "        print(f\"Control accuracy score: {acc}\")\n",
    "        print(f\"Control roc auc score: {auc}\")\n",
    "        print(f\"Control log loss: {logloss}\\n\")\n",
    "\n",
    "        uplift = treatment_proba - control_proba\n",
    "        up_score = uplift_score(uplift, test_is_treatment_, y_test_)\n",
    "        uplifts.append(up_score)\n",
    "        print(f\"Uplift score: {up_score}\\n\")\n",
    "\n",
    "    print(f\"\\nControl average accuracy: {np.mean(control_acc)}\")\n",
    "    print(f\"Control average rocauc: {np.mean(control_auc)}\")\n",
    "    print(f\"Control average loglos: {np.mean(control_loglos)}\\n\")\n",
    "\n",
    "    print(f\"Treatment average accuracy: {np.mean(treatment_acc)}\")\n",
    "    print(f\"Treatment average rocauc: {np.mean(treatment_auc)}\")\n",
    "    print(f\"Treatment average loglos: {np.mean(treatment_loglos)}\\n\")\n",
    "\n",
    "    print(f\"Average uplift score: {np.mean(uplifts)}\\n\\n\")\n",
    "    kfolds_uplifts.append(np.mean(uplifts))\n",
    "    \n",
    "print(f\"Average for uplift score all kfolds: {np.mean(kfolds_uplifts)}\")\n"
   ]
  },
  {
   "cell_type": "markdown",
   "metadata": {},
   "source": [
    "## Fit on whole training set and generate submission"
   ]
  },
  {
   "cell_type": "code",
   "execution_count": 12,
   "metadata": {},
   "outputs": [],
   "source": [
    "X_train, y_train, train_is_treatment, X_valid, y_valid, valid_is_treatment, X_test = read_train_test()"
   ]
  },
  {
   "cell_type": "code",
   "execution_count": 13,
   "metadata": {},
   "outputs": [],
   "source": [
    "X_train_control, X_train_treatment, y_train_control, y_train_treatment = split_control_treatment(\n",
    "    X_train, y_train, train_is_treatment\n",
    ")\n",
    "X_valid_control, X_valid_treatment, y_valid_control, y_valid_treatment = split_control_treatment(\n",
    "    X_valid, y_valid, valid_is_treatment\n",
    ")"
   ]
  },
  {
   "cell_type": "code",
   "execution_count": 15,
   "metadata": {},
   "outputs": [],
   "source": [
    "X_control, y_control = join_train_validation(X_train_control, X_valid_control, y_train_control, y_valid_control)\n",
    "X_treatment, y_treatment = join_train_validation(\n",
    "    X_train_treatment, X_valid_treatment, y_train_treatment, y_valid_treatment\n",
    ")\n",
    "\n",
    "clf_control = xgb.XGBClassifier(objective=\"binary:logistic\", **xgb_best_params).fit(X_control, y_control)\n",
    "clf_treatment = xgb.XGBClassifier(objective=\"binary:logistic\", **xgb_best_params).fit(X_treatment, y_treatment)\n",
    "\n",
    "predict_test_control = clf_control.predict_proba(X_test)[:, 1]\n",
    "predict_test_treatment = clf_treatment.predict_proba(X_test)[:, 1]\n",
    "predict_test_uplift = predict_test_treatment - predict_test_control\n",
    "df_submission = pd.DataFrame({'uplift': predict_test_uplift}, index=X_test.index)\n",
    "df_submission.to_csv('all_features_xgb_tuning.csv')"
   ]
  },
  {
   "cell_type": "code",
   "execution_count": null,
   "metadata": {},
   "outputs": [],
   "source": []
  },
  {
   "cell_type": "code",
   "execution_count": 17,
   "metadata": {},
   "outputs": [
    {
     "name": "stdout",
     "output_type": "stream",
     "text": [
      "All features - baseline:\n",
      "holdout diff: 0.006247543780959042\n",
      "1 kfold diff: 0.012136818043580931\n",
      "6 kfolds diff: 0.009538011258885544\n",
      "real diff: -0.0019000000000000059\n",
      "\n",
      "Tuning - no tuning:\n",
      "holdout diff: 0.02439390677730946\n",
      "1 kfold diff: -0.005500183527066334\n",
      "6 kfolds diff: 0.002036170397499003\n",
      "real diff: 0.020199999999999996\n"
     ]
    }
   ],
   "source": [
    "baseline_score = 0.0585\n",
    "all_features_score = 0.0566\n",
    "tuning_score = 0.0768\n",
    "\n",
    "\n",
    "uplift_holdout_baseline_cols = 0.05122098384721485\n",
    "uplift_1_kfold_baseline_cols = 0.04775477592059265\n",
    "uplift_6_kfolds_baseline_cols = 0.04856602992351957\n",
    "\n",
    "uplift_holdout_all_features = 0.05746852762817389\n",
    "uplift_1_kfold_all_features = 0.05989159396417358\n",
    "uplift_6_kfolds_all_features = 0.058104041182405114\n",
    "\n",
    "holdout_diff = uplift_holdout_all_features - uplift_holdout_baseline_cols\n",
    "kfold_diff = uplift_1_kfold_all_features - uplift_1_kfold_baseline_cols\n",
    "kfolds_diff = uplift_6_kfolds_all_features - uplift_6_kfolds_baseline_cols\n",
    "\n",
    "real_diff = all_features_score - baseline_score\n",
    "\n",
    "print(\"All features - baseline:\")\n",
    "print(f\"holdout diff: {holdout_diff}\")\n",
    "print(f\"1 kfold diff: {kfold_diff}\")\n",
    "print(f\"6 kfolds diff: {kfolds_diff}\")\n",
    "print(f\"real diff: {real_diff}\\n\")\n",
    "\n",
    "\n",
    "uplift_holdout_all_features_tuning = 0.08186243440548335\n",
    "uplift_1_kfold_all_features_tuning = 0.05439141043710725\n",
    "uplift_6_kfolds_all_features_tuning = 0.06014021157990412\n",
    "\n",
    "holdout_diff = uplift_holdout_all_features_tuning - uplift_holdout_all_features\n",
    "kfold_diff = uplift_1_kfold_all_features_tuning - uplift_1_kfold_all_features\n",
    "kfolds_diff = uplift_6_kfolds_all_features_tuning - uplift_6_kfolds_all_features\n",
    "\n",
    "\n",
    "real_diff = tuning_score - all_features_score\n",
    "\n",
    "print(\"Tuning - no tuning:\")\n",
    "print(f\"holdout diff: {holdout_diff}\")\n",
    "print(f\"1 kfold diff: {kfold_diff}\")\n",
    "print(f\"6 kfolds diff: {kfolds_diff}\")\n",
    "print(f\"real diff: {real_diff}\")"
   ]
  },
  {
   "cell_type": "code",
   "execution_count": null,
   "metadata": {},
   "outputs": [],
   "source": []
  },
  {
   "cell_type": "code",
   "execution_count": null,
   "metadata": {},
   "outputs": [],
   "source": []
  }
 ],
 "metadata": {
  "kernelspec": {
   "display_name": "Python 3",
   "language": "python",
   "name": "python3"
  },
  "language_info": {
   "codemirror_mode": {
    "name": "ipython",
    "version": 3
   },
   "file_extension": ".py",
   "mimetype": "text/x-python",
   "name": "python",
   "nbconvert_exporter": "python",
   "pygments_lexer": "ipython3",
   "version": "3.6.5"
  }
 },
 "nbformat": 4,
 "nbformat_minor": 4
}
