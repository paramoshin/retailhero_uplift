{
 "cells": [
  {
   "cell_type": "code",
   "execution_count": 17,
   "metadata": {},
   "outputs": [],
   "source": [
    "import pandas as pd\n",
    "import numpy as np\n",
    "from sklearn.neighbors import KNeighborsClassifier\n",
    "from sklearn.preprocessing import MinMaxScaler, StandardScaler"
   ]
  },
  {
   "cell_type": "code",
   "execution_count": 3,
   "metadata": {},
   "outputs": [],
   "source": [
    "def read_train_test():\n",
    "    X_train = pd.read_csv(\n",
    "        \"../data/processed/two_models/X_train.csv\", index_col=\"client_id\"\n",
    "    )\n",
    "    y_train = pd.read_csv(\n",
    "        \"../data/processed/two_models/y_train.csv\",\n",
    "        header=None,\n",
    "        names=[\"client_id\", \"target\"],\n",
    "        index_col=\"client_id\"\n",
    "    )[\"target\"]\n",
    "    train_is_treatment = pd.read_csv(\n",
    "        \"../data/processed/two_models/X_train_is_treatment.csv\",\n",
    "        header=None,\n",
    "        names=[\"client_id\", \"is_treatment\"],\n",
    "        index_col=\"client_id\"\n",
    "    )[\"is_treatment\"]\n",
    "\n",
    "    X_valid = pd.read_csv(\"../data/processed/two_models/X_valid.csv\", index_col=\"client_id\")\n",
    "    y_valid = pd.read_csv(\n",
    "        \"../data/processed/two_models/y_valid.csv\",\n",
    "        header=None,\n",
    "        names=[\"client_id\", \"target\"],\n",
    "        index_col=\"client_id\"\n",
    "    )[\"target\"]\n",
    "    valid_is_treatment = pd.read_csv(\n",
    "        \"../data/processed/two_models/X_valid_is_treatment.csv\",\n",
    "        header=None,\n",
    "        names=[\"client_id\", \"is_treatment\"],\n",
    "        index_col=\"client_id\"\n",
    "    )[\"is_treatment\"]\n",
    "\n",
    "    X_test = pd.read_csv(\"../data/processed/two_models/X_test.csv\", index_col=\"client_id\")\n",
    "\n",
    "    return X_train, y_train, train_is_treatment, X_valid, y_valid, valid_is_treatment, X_test\n",
    "\n",
    "\n",
    "def join_train_validation(X_train, X_valid, y_train, y_valid):\n",
    "    X_train = pd.concat([X_train, X_valid], ignore_index=False)\n",
    "    y_train = pd.concat([y_train, y_valid], ignore_index=False)\n",
    "    return X_train, y_train\n",
    "\n",
    "\n",
    "def split_control_treatment(X, y, is_treatment):\n",
    "    X_control = X[is_treatment == 0]\n",
    "    X_treatment = X[is_treatment == 1]\n",
    "    y_control = y[is_treatment == 0]\n",
    "    y_treatment = y[is_treatment == 1]\n",
    "    return X_control, X_treatment, y_control, y_treatment"
   ]
  },
  {
   "cell_type": "code",
   "execution_count": 4,
   "metadata": {},
   "outputs": [],
   "source": [
    "def uplift_score(prediction, treatment, target, rate=0.3):\n",
    "    \"\"\"\n",
    "    Подсчет Uplift Score\n",
    "    \"\"\"\n",
    "    order = np.argsort(-prediction)\n",
    "    treatment_n = int((treatment == 1).sum() * rate)\n",
    "    print(f\"    number of treatment users: {treatment_n}\")\n",
    "    treatment_p = target[order][treatment[order] == 1][:treatment_n].mean()\n",
    "    print(f\"    treatment p: {treatment_p}\")\n",
    "    control_n = int((treatment == 0).sum() * rate)\n",
    "    print(f\"    number of control users: {treatment_n}\")\n",
    "    control_p = target[order][treatment[order] == 0][:control_n].mean()\n",
    "    print(f\"    control p: {control_p}\")\n",
    "    score = treatment_p - control_p\n",
    "    return score"
   ]
  },
  {
   "cell_type": "code",
   "execution_count": 5,
   "metadata": {},
   "outputs": [],
   "source": [
    "X_train, y_train, train_is_treatment, X_valid, y_valid, valid_is_treatment, X_test = read_train_test()"
   ]
  },
  {
   "cell_type": "code",
   "execution_count": 8,
   "metadata": {},
   "outputs": [],
   "source": [
    "X_train.fillna(-999, inplace=True)\n",
    "X_valid.fillna(-999, inplace=True)"
   ]
  },
  {
   "cell_type": "code",
   "execution_count": 9,
   "metadata": {},
   "outputs": [],
   "source": [
    "X_train_control, X_train_treatment, y_train_control, y_train_treatment = split_control_treatment(\n",
    "    X_train, y_train, train_is_treatment\n",
    ")\n",
    "X_valid_control, X_valid_treatment, y_valid_control, y_valid_treatment = split_control_treatment(\n",
    "    X_valid, y_valid, valid_is_treatment\n",
    ")"
   ]
  },
  {
   "cell_type": "code",
   "execution_count": 10,
   "metadata": {},
   "outputs": [
    {
     "data": {
      "text/plain": [
       "0.6014587525150905"
      ]
     },
     "execution_count": 10,
     "metadata": {},
     "output_type": "execute_result"
    }
   ],
   "source": [
    "neigh_control = KNeighborsClassifier(n_neighbors=3)\n",
    "neigh_control.fit(X_train_control, y_train_control)\n",
    "neigh_control.score(X_valid_control, y_valid_control)"
   ]
  },
  {
   "cell_type": "code",
   "execution_count": 11,
   "metadata": {},
   "outputs": [
    {
     "data": {
      "text/plain": [
       "0.622714626391097"
      ]
     },
     "execution_count": 11,
     "metadata": {},
     "output_type": "execute_result"
    }
   ],
   "source": [
    "neigh_treatment = KNeighborsClassifier(n_neighbors=3)\n",
    "neigh_treatment.fit(X_train_treatment, y_train_treatment)\n",
    "neigh_treatment.score(X_valid_treatment, y_valid_treatment)"
   ]
  },
  {
   "cell_type": "code",
   "execution_count": 13,
   "metadata": {},
   "outputs": [
    {
     "name": "stdout",
     "output_type": "stream",
     "text": [
      "    number of treatment users: 6038\n",
      "    treatment p: 0.6414375621066578\n",
      "    number of control users: 6038\n",
      "    control p: 0.6116700201207244\n"
     ]
    },
    {
     "data": {
      "text/plain": [
       "0.029767541985933454"
      ]
     },
     "execution_count": 13,
     "metadata": {},
     "output_type": "execute_result"
    }
   ],
   "source": [
    "predict_valid_control = neigh_control.predict_proba(X_valid)[:, 1]\n",
    "predict_valid_treatment = neigh_treatment.predict_proba(X_valid)[:, 1]\n",
    "predict_valid_uplift = predict_valid_treatment - predict_valid_control\n",
    "uplift_score(predict_valid_uplift, valid_is_treatment, y_valid)"
   ]
  },
  {
   "cell_type": "code",
   "execution_count": null,
   "metadata": {},
   "outputs": [],
   "source": []
  },
  {
   "cell_type": "code",
   "execution_count": 18,
   "metadata": {},
   "outputs": [],
   "source": [
    "scaler = MinMaxScaler()\n",
    "X_train_scaled = scaler.fit_transform(X_train)\n",
    "X_valid_scaled = scaler.transform(X_valid)"
   ]
  },
  {
   "cell_type": "code",
   "execution_count": 19,
   "metadata": {},
   "outputs": [],
   "source": [
    "X_train_control, X_train_treatment, y_train_control, y_train_treatment = split_control_treatment(\n",
    "    X_train_scaled, y_train, train_is_treatment\n",
    ")\n",
    "X_valid_control, X_valid_treatment, y_valid_control, y_valid_treatment = split_control_treatment(\n",
    "    X_valid_scaled, y_valid, valid_is_treatment\n",
    ")"
   ]
  },
  {
   "cell_type": "code",
   "execution_count": 20,
   "metadata": {},
   "outputs": [
    {
     "data": {
      "text/plain": [
       "0.6213782696177063"
      ]
     },
     "execution_count": 20,
     "metadata": {},
     "output_type": "execute_result"
    }
   ],
   "source": [
    "neigh_control = KNeighborsClassifier(n_neighbors=3)\n",
    "neigh_control.fit(X_train_control, y_train_control)\n",
    "neigh_control.score(X_valid_control, y_valid_control)"
   ]
  },
  {
   "cell_type": "code",
   "execution_count": 21,
   "metadata": {},
   "outputs": [
    {
     "data": {
      "text/plain": [
       "0.6397058823529411"
      ]
     },
     "execution_count": 21,
     "metadata": {},
     "output_type": "execute_result"
    }
   ],
   "source": [
    "neigh_treatment = KNeighborsClassifier(n_neighbors=3)\n",
    "neigh_treatment.fit(X_train_treatment, y_train_treatment)\n",
    "neigh_treatment.score(X_valid_treatment, y_valid_treatment)"
   ]
  },
  {
   "cell_type": "code",
   "execution_count": 22,
   "metadata": {},
   "outputs": [
    {
     "name": "stdout",
     "output_type": "stream",
     "text": [
      "    number of treatment users: 6038\n",
      "    treatment p: 0.649387214309374\n",
      "    number of control users: 6038\n",
      "    control p: 0.6190476190476191\n"
     ]
    },
    {
     "data": {
      "text/plain": [
       "0.030339595261754893"
      ]
     },
     "execution_count": 22,
     "metadata": {},
     "output_type": "execute_result"
    }
   ],
   "source": [
    "predict_valid_control = neigh_control.predict_proba(X_valid)[:, 1]\n",
    "predict_valid_treatment = neigh_treatment.predict_proba(X_valid)[:, 1]\n",
    "predict_valid_uplift = predict_valid_treatment - predict_valid_control\n",
    "uplift_score(predict_valid_uplift, valid_is_treatment, y_valid)"
   ]
  },
  {
   "cell_type": "code",
   "execution_count": null,
   "metadata": {},
   "outputs": [],
   "source": []
  },
  {
   "cell_type": "code",
   "execution_count": 24,
   "metadata": {},
   "outputs": [],
   "source": [
    "scaler = StandardScaler()\n",
    "X_train_scaled = scaler.fit_transform(X_train)\n",
    "X_valid_scaled = scaler.transform(X_valid)"
   ]
  },
  {
   "cell_type": "code",
   "execution_count": 25,
   "metadata": {},
   "outputs": [],
   "source": [
    "X_train_control, X_train_treatment, y_train_control, y_train_treatment = split_control_treatment(\n",
    "    X_train_scaled, y_train, train_is_treatment\n",
    ")\n",
    "X_valid_control, X_valid_treatment, y_valid_control, y_valid_treatment = split_control_treatment(\n",
    "    X_valid_scaled, y_valid, valid_is_treatment\n",
    ")"
   ]
  },
  {
   "cell_type": "code",
   "execution_count": 26,
   "metadata": {},
   "outputs": [
    {
     "data": {
      "text/plain": [
       "0.6477867203219316"
      ]
     },
     "execution_count": 26,
     "metadata": {},
     "output_type": "execute_result"
    }
   ],
   "source": [
    "neigh_control = KNeighborsClassifier(n_neighbors=3)\n",
    "neigh_control.fit(X_train_control, y_train_control)\n",
    "neigh_control.score(X_valid_control, y_valid_control)"
   ]
  },
  {
   "cell_type": "code",
   "execution_count": 27,
   "metadata": {},
   "outputs": [
    {
     "data": {
      "text/plain": [
       "0.6598767885532592"
      ]
     },
     "execution_count": 27,
     "metadata": {},
     "output_type": "execute_result"
    }
   ],
   "source": [
    "neigh_treatment = KNeighborsClassifier(n_neighbors=3)\n",
    "neigh_treatment.fit(X_train_treatment, y_train_treatment)\n",
    "neigh_treatment.score(X_valid_treatment, y_valid_treatment)"
   ]
  },
  {
   "cell_type": "code",
   "execution_count": 28,
   "metadata": {},
   "outputs": [
    {
     "name": "stdout",
     "output_type": "stream",
     "text": [
      "    number of treatment users: 6038\n",
      "    treatment p: 0.6503809208347134\n",
      "    number of control users: 6038\n",
      "    control p: 0.6158618376928237\n"
     ]
    },
    {
     "data": {
      "text/plain": [
       "0.034519083141889784"
      ]
     },
     "execution_count": 28,
     "metadata": {},
     "output_type": "execute_result"
    }
   ],
   "source": [
    "predict_valid_control = neigh_control.predict_proba(X_valid)[:, 1]\n",
    "predict_valid_treatment = neigh_treatment.predict_proba(X_valid)[:, 1]\n",
    "predict_valid_uplift = predict_valid_treatment - predict_valid_control\n",
    "uplift_score(predict_valid_uplift, valid_is_treatment, y_valid)"
   ]
  },
  {
   "cell_type": "code",
   "execution_count": 23,
   "metadata": {},
   "outputs": [],
   "source": [
    "n_neighbors_list = list(range(1, 26))"
   ]
  },
  {
   "cell_type": "code",
   "execution_count": null,
   "metadata": {},
   "outputs": [],
   "source": [
    "scores = {}\n",
    "for k in n_neighbors_list:\n",
    "    print(k)\n",
    "    knn = KNeighborsClassifier(n_neighbors=k)\n",
    "    knn.fit(X_train_scaled, y_train)\n",
    "    scores[str(k)] = knn.score(X_valid_scaled, y_valid)"
   ]
  },
  {
   "cell_type": "code",
   "execution_count": null,
   "metadata": {},
   "outputs": [],
   "source": []
  },
  {
   "cell_type": "code",
   "execution_count": null,
   "metadata": {},
   "outputs": [],
   "source": []
  },
  {
   "cell_type": "code",
   "execution_count": null,
   "metadata": {},
   "outputs": [],
   "source": [
    "from sklearn.linear_model import LogisticRegression"
   ]
  },
  {
   "cell_type": "code",
   "execution_count": null,
   "metadata": {},
   "outputs": [],
   "source": [
    "lr_control = LogisticRegression()\n",
    "lr_control.fit(X_train_control, y_train_control)\n",
    "lr_control.score(X_valid_control, y_valid_control)"
   ]
  },
  {
   "cell_type": "code",
   "execution_count": null,
   "metadata": {},
   "outputs": [],
   "source": [
    "lr_treatment = LogisticRegression()\n",
    "lr_treatment.fit(X_train_treatment, y_train_treatment)\n",
    "lr_treatment.score(X_valid_treatment, y_valid_treatment)"
   ]
  },
  {
   "cell_type": "code",
   "execution_count": null,
   "metadata": {},
   "outputs": [],
   "source": [
    "predict_valid_control = lr_control.predict_proba(X_valid)[:, 1]\n",
    "predict_valid_treatment = lr_treatment.predict_proba(X_valid)[:, 1]\n",
    "predict_valid_uplift = predict_valid_treatment - predict_valid_control\n",
    "uplift_score(predict_valid_uplift, valid_is_treatment, y_valid)"
   ]
  },
  {
   "cell_type": "code",
   "execution_count": null,
   "metadata": {},
   "outputs": [],
   "source": []
  }
 ],
 "metadata": {
  "kernelspec": {
   "display_name": "Python 3",
   "language": "python",
   "name": "python3"
  },
  "language_info": {
   "codemirror_mode": {
    "name": "ipython",
    "version": 3
   },
   "file_extension": ".py",
   "mimetype": "text/x-python",
   "name": "python",
   "nbconvert_exporter": "python",
   "pygments_lexer": "ipython3",
   "version": "3.6.9"
  }
 },
 "nbformat": 4,
 "nbformat_minor": 4
}
